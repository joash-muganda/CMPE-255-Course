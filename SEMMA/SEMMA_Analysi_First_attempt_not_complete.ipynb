{
  "nbformat": 4,
  "nbformat_minor": 0,
  "metadata": {
    "colab": {
      "provenance": [],
      "gpuType": "T4"
    },
    "kernelspec": {
      "name": "python3",
      "display_name": "Python 3"
    },
    "language_info": {
      "name": "python"
    },
    "accelerator": "GPU"
  },
  "cells": [
    {
      "cell_type": "code",
      "execution_count": null,
      "metadata": {
        "id": "Sq6m_KeM1joL"
      },
      "outputs": [],
      "source": []
    },
    {
      "cell_type": "markdown",
      "source": [
        "# **SEMMA**"
      ],
      "metadata": {
        "id": "Q4O7_vVn1r0O"
      }
    },
    {
      "cell_type": "markdown",
      "source": [
        "# **Objective: Predicting Medal Wins**\n",
        "Description: Use the dataset to predict whether an athlete will win a medal in the Olympics based on their attributes and the event they're participating in."
      ],
      "metadata": {
        "id": "z3dV_Yht1lJl"
      }
    },
    {
      "cell_type": "markdown",
      "source": [
        "# **1. Sample**"
      ],
      "metadata": {
        "id": "CSsa4JyG1xdn"
      }
    },
    {
      "cell_type": "markdown",
      "source": [
        "**Step 1: Loading Data and Initial Setup**\n",
        "\n",
        "Import Necessary Libraries:\n",
        "Before we proceed, we need to import the necessary Python libraries that will help us handle and analyze the data.\n",
        "\n",
        "Load the Dataset:\n",
        "The dataset needs to be loaded into a data structure (like a DataFrame in pandas) for analysis.\n",
        "\n",
        "Initial Inspection:\n",
        "Once the dataset is loaded, it's essential to inspect the first few rows to understand the structure and the types of variables it contains."
      ],
      "metadata": {
        "id": "lf0_vva43ow_"
      }
    },
    {
      "cell_type": "code",
      "source": [
        "from google.colab import files\n",
        "da = files.upload()"
      ],
      "metadata": {
        "colab": {
          "base_uri": "https://localhost:8080/",
          "height": 73
        },
        "id": "NHuVbzDP2V0E",
        "outputId": "50e390fc-f416-4bd8-883f-630efa299db8"
      },
      "execution_count": 3,
      "outputs": [
        {
          "output_type": "display_data",
          "data": {
            "text/plain": [
              "<IPython.core.display.HTML object>"
            ],
            "text/html": [
              "\n",
              "     <input type=\"file\" id=\"files-0dec936d-a6de-4e60-9767-c2f510fcb92b\" name=\"files[]\" multiple disabled\n",
              "        style=\"border:none\" />\n",
              "     <output id=\"result-0dec936d-a6de-4e60-9767-c2f510fcb92b\">\n",
              "      Upload widget is only available when the cell has been executed in the\n",
              "      current browser session. Please rerun this cell to enable.\n",
              "      </output>\n",
              "      <script>// Copyright 2017 Google LLC\n",
              "//\n",
              "// Licensed under the Apache License, Version 2.0 (the \"License\");\n",
              "// you may not use this file except in compliance with the License.\n",
              "// You may obtain a copy of the License at\n",
              "//\n",
              "//      http://www.apache.org/licenses/LICENSE-2.0\n",
              "//\n",
              "// Unless required by applicable law or agreed to in writing, software\n",
              "// distributed under the License is distributed on an \"AS IS\" BASIS,\n",
              "// WITHOUT WARRANTIES OR CONDITIONS OF ANY KIND, either express or implied.\n",
              "// See the License for the specific language governing permissions and\n",
              "// limitations under the License.\n",
              "\n",
              "/**\n",
              " * @fileoverview Helpers for google.colab Python module.\n",
              " */\n",
              "(function(scope) {\n",
              "function span(text, styleAttributes = {}) {\n",
              "  const element = document.createElement('span');\n",
              "  element.textContent = text;\n",
              "  for (const key of Object.keys(styleAttributes)) {\n",
              "    element.style[key] = styleAttributes[key];\n",
              "  }\n",
              "  return element;\n",
              "}\n",
              "\n",
              "// Max number of bytes which will be uploaded at a time.\n",
              "const MAX_PAYLOAD_SIZE = 100 * 1024;\n",
              "\n",
              "function _uploadFiles(inputId, outputId) {\n",
              "  const steps = uploadFilesStep(inputId, outputId);\n",
              "  const outputElement = document.getElementById(outputId);\n",
              "  // Cache steps on the outputElement to make it available for the next call\n",
              "  // to uploadFilesContinue from Python.\n",
              "  outputElement.steps = steps;\n",
              "\n",
              "  return _uploadFilesContinue(outputId);\n",
              "}\n",
              "\n",
              "// This is roughly an async generator (not supported in the browser yet),\n",
              "// where there are multiple asynchronous steps and the Python side is going\n",
              "// to poll for completion of each step.\n",
              "// This uses a Promise to block the python side on completion of each step,\n",
              "// then passes the result of the previous step as the input to the next step.\n",
              "function _uploadFilesContinue(outputId) {\n",
              "  const outputElement = document.getElementById(outputId);\n",
              "  const steps = outputElement.steps;\n",
              "\n",
              "  const next = steps.next(outputElement.lastPromiseValue);\n",
              "  return Promise.resolve(next.value.promise).then((value) => {\n",
              "    // Cache the last promise value to make it available to the next\n",
              "    // step of the generator.\n",
              "    outputElement.lastPromiseValue = value;\n",
              "    return next.value.response;\n",
              "  });\n",
              "}\n",
              "\n",
              "/**\n",
              " * Generator function which is called between each async step of the upload\n",
              " * process.\n",
              " * @param {string} inputId Element ID of the input file picker element.\n",
              " * @param {string} outputId Element ID of the output display.\n",
              " * @return {!Iterable<!Object>} Iterable of next steps.\n",
              " */\n",
              "function* uploadFilesStep(inputId, outputId) {\n",
              "  const inputElement = document.getElementById(inputId);\n",
              "  inputElement.disabled = false;\n",
              "\n",
              "  const outputElement = document.getElementById(outputId);\n",
              "  outputElement.innerHTML = '';\n",
              "\n",
              "  const pickedPromise = new Promise((resolve) => {\n",
              "    inputElement.addEventListener('change', (e) => {\n",
              "      resolve(e.target.files);\n",
              "    });\n",
              "  });\n",
              "\n",
              "  const cancel = document.createElement('button');\n",
              "  inputElement.parentElement.appendChild(cancel);\n",
              "  cancel.textContent = 'Cancel upload';\n",
              "  const cancelPromise = new Promise((resolve) => {\n",
              "    cancel.onclick = () => {\n",
              "      resolve(null);\n",
              "    };\n",
              "  });\n",
              "\n",
              "  // Wait for the user to pick the files.\n",
              "  const files = yield {\n",
              "    promise: Promise.race([pickedPromise, cancelPromise]),\n",
              "    response: {\n",
              "      action: 'starting',\n",
              "    }\n",
              "  };\n",
              "\n",
              "  cancel.remove();\n",
              "\n",
              "  // Disable the input element since further picks are not allowed.\n",
              "  inputElement.disabled = true;\n",
              "\n",
              "  if (!files) {\n",
              "    return {\n",
              "      response: {\n",
              "        action: 'complete',\n",
              "      }\n",
              "    };\n",
              "  }\n",
              "\n",
              "  for (const file of files) {\n",
              "    const li = document.createElement('li');\n",
              "    li.append(span(file.name, {fontWeight: 'bold'}));\n",
              "    li.append(span(\n",
              "        `(${file.type || 'n/a'}) - ${file.size} bytes, ` +\n",
              "        `last modified: ${\n",
              "            file.lastModifiedDate ? file.lastModifiedDate.toLocaleDateString() :\n",
              "                                    'n/a'} - `));\n",
              "    const percent = span('0% done');\n",
              "    li.appendChild(percent);\n",
              "\n",
              "    outputElement.appendChild(li);\n",
              "\n",
              "    const fileDataPromise = new Promise((resolve) => {\n",
              "      const reader = new FileReader();\n",
              "      reader.onload = (e) => {\n",
              "        resolve(e.target.result);\n",
              "      };\n",
              "      reader.readAsArrayBuffer(file);\n",
              "    });\n",
              "    // Wait for the data to be ready.\n",
              "    let fileData = yield {\n",
              "      promise: fileDataPromise,\n",
              "      response: {\n",
              "        action: 'continue',\n",
              "      }\n",
              "    };\n",
              "\n",
              "    // Use a chunked sending to avoid message size limits. See b/62115660.\n",
              "    let position = 0;\n",
              "    do {\n",
              "      const length = Math.min(fileData.byteLength - position, MAX_PAYLOAD_SIZE);\n",
              "      const chunk = new Uint8Array(fileData, position, length);\n",
              "      position += length;\n",
              "\n",
              "      const base64 = btoa(String.fromCharCode.apply(null, chunk));\n",
              "      yield {\n",
              "        response: {\n",
              "          action: 'append',\n",
              "          file: file.name,\n",
              "          data: base64,\n",
              "        },\n",
              "      };\n",
              "\n",
              "      let percentDone = fileData.byteLength === 0 ?\n",
              "          100 :\n",
              "          Math.round((position / fileData.byteLength) * 100);\n",
              "      percent.textContent = `${percentDone}% done`;\n",
              "\n",
              "    } while (position < fileData.byteLength);\n",
              "  }\n",
              "\n",
              "  // All done.\n",
              "  yield {\n",
              "    response: {\n",
              "      action: 'complete',\n",
              "    }\n",
              "  };\n",
              "}\n",
              "\n",
              "scope.google = scope.google || {};\n",
              "scope.google.colab = scope.google.colab || {};\n",
              "scope.google.colab._files = {\n",
              "  _uploadFiles,\n",
              "  _uploadFilesContinue,\n",
              "};\n",
              "})(self);\n",
              "</script> "
            ]
          },
          "metadata": {}
        },
        {
          "output_type": "stream",
          "name": "stdout",
          "text": [
            "Saving dataset_olympics.csv to dataset_olympics.csv\n"
          ]
        }
      ]
    },
    {
      "cell_type": "code",
      "source": [
        "# Importing necessary libraries\n",
        "import pandas as pd\n",
        "import numpy as np\n",
        "import matplotlib.pyplot as plt\n",
        "import seaborn as sns\n",
        "\n",
        "# Loading the dataset\n",
        "\n",
        "olympics_df = pd.read_csv('dataset_olympics.csv')\n",
        "\n",
        "# Displaying the first few rows of the dataset for inspection\n",
        "olympics_df.head()\n"
      ],
      "metadata": {
        "colab": {
          "base_uri": "https://localhost:8080/",
          "height": 206
        },
        "id": "cO-q_Njz2mos",
        "outputId": "2d4f382e-59d5-46a3-e9c1-e81c4aaeef28"
      },
      "execution_count": 42,
      "outputs": [
        {
          "output_type": "execute_result",
          "data": {
            "text/plain": [
              "   ID                      Name Sex   Age  Height  Weight            Team  \\\n",
              "0   1                 A Dijiang   M  24.0   180.0    80.0           China   \n",
              "1   2                  A Lamusi   M  23.0   170.0    60.0           China   \n",
              "2   3       Gunnar Nielsen Aaby   M  24.0     NaN     NaN         Denmark   \n",
              "3   4      Edgar Lindenau Aabye   M  34.0     NaN     NaN  Denmark/Sweden   \n",
              "4   5  Christine Jacoba Aaftink   F  21.0   185.0    82.0     Netherlands   \n",
              "\n",
              "   NOC        Games  Year  Season       City          Sport  \\\n",
              "0  CHN  1992 Summer  1992  Summer  Barcelona     Basketball   \n",
              "1  CHN  2012 Summer  2012  Summer     London           Judo   \n",
              "2  DEN  1920 Summer  1920  Summer  Antwerpen       Football   \n",
              "3  DEN  1900 Summer  1900  Summer      Paris     Tug-Of-War   \n",
              "4  NED  1988 Winter  1988  Winter    Calgary  Speed Skating   \n",
              "\n",
              "                              Event Medal  \n",
              "0       Basketball Men's Basketball   NaN  \n",
              "1      Judo Men's Extra-Lightweight   NaN  \n",
              "2           Football Men's Football   NaN  \n",
              "3       Tug-Of-War Men's Tug-Of-War  Gold  \n",
              "4  Speed Skating Women's 500 metres   NaN  "
            ],
            "text/html": [
              "\n",
              "  <div id=\"df-afdf8ff6-57bf-4960-9bbd-d9e309bde38c\" class=\"colab-df-container\">\n",
              "    <div>\n",
              "<style scoped>\n",
              "    .dataframe tbody tr th:only-of-type {\n",
              "        vertical-align: middle;\n",
              "    }\n",
              "\n",
              "    .dataframe tbody tr th {\n",
              "        vertical-align: top;\n",
              "    }\n",
              "\n",
              "    .dataframe thead th {\n",
              "        text-align: right;\n",
              "    }\n",
              "</style>\n",
              "<table border=\"1\" class=\"dataframe\">\n",
              "  <thead>\n",
              "    <tr style=\"text-align: right;\">\n",
              "      <th></th>\n",
              "      <th>ID</th>\n",
              "      <th>Name</th>\n",
              "      <th>Sex</th>\n",
              "      <th>Age</th>\n",
              "      <th>Height</th>\n",
              "      <th>Weight</th>\n",
              "      <th>Team</th>\n",
              "      <th>NOC</th>\n",
              "      <th>Games</th>\n",
              "      <th>Year</th>\n",
              "      <th>Season</th>\n",
              "      <th>City</th>\n",
              "      <th>Sport</th>\n",
              "      <th>Event</th>\n",
              "      <th>Medal</th>\n",
              "    </tr>\n",
              "  </thead>\n",
              "  <tbody>\n",
              "    <tr>\n",
              "      <th>0</th>\n",
              "      <td>1</td>\n",
              "      <td>A Dijiang</td>\n",
              "      <td>M</td>\n",
              "      <td>24.0</td>\n",
              "      <td>180.0</td>\n",
              "      <td>80.0</td>\n",
              "      <td>China</td>\n",
              "      <td>CHN</td>\n",
              "      <td>1992 Summer</td>\n",
              "      <td>1992</td>\n",
              "      <td>Summer</td>\n",
              "      <td>Barcelona</td>\n",
              "      <td>Basketball</td>\n",
              "      <td>Basketball Men's Basketball</td>\n",
              "      <td>NaN</td>\n",
              "    </tr>\n",
              "    <tr>\n",
              "      <th>1</th>\n",
              "      <td>2</td>\n",
              "      <td>A Lamusi</td>\n",
              "      <td>M</td>\n",
              "      <td>23.0</td>\n",
              "      <td>170.0</td>\n",
              "      <td>60.0</td>\n",
              "      <td>China</td>\n",
              "      <td>CHN</td>\n",
              "      <td>2012 Summer</td>\n",
              "      <td>2012</td>\n",
              "      <td>Summer</td>\n",
              "      <td>London</td>\n",
              "      <td>Judo</td>\n",
              "      <td>Judo Men's Extra-Lightweight</td>\n",
              "      <td>NaN</td>\n",
              "    </tr>\n",
              "    <tr>\n",
              "      <th>2</th>\n",
              "      <td>3</td>\n",
              "      <td>Gunnar Nielsen Aaby</td>\n",
              "      <td>M</td>\n",
              "      <td>24.0</td>\n",
              "      <td>NaN</td>\n",
              "      <td>NaN</td>\n",
              "      <td>Denmark</td>\n",
              "      <td>DEN</td>\n",
              "      <td>1920 Summer</td>\n",
              "      <td>1920</td>\n",
              "      <td>Summer</td>\n",
              "      <td>Antwerpen</td>\n",
              "      <td>Football</td>\n",
              "      <td>Football Men's Football</td>\n",
              "      <td>NaN</td>\n",
              "    </tr>\n",
              "    <tr>\n",
              "      <th>3</th>\n",
              "      <td>4</td>\n",
              "      <td>Edgar Lindenau Aabye</td>\n",
              "      <td>M</td>\n",
              "      <td>34.0</td>\n",
              "      <td>NaN</td>\n",
              "      <td>NaN</td>\n",
              "      <td>Denmark/Sweden</td>\n",
              "      <td>DEN</td>\n",
              "      <td>1900 Summer</td>\n",
              "      <td>1900</td>\n",
              "      <td>Summer</td>\n",
              "      <td>Paris</td>\n",
              "      <td>Tug-Of-War</td>\n",
              "      <td>Tug-Of-War Men's Tug-Of-War</td>\n",
              "      <td>Gold</td>\n",
              "    </tr>\n",
              "    <tr>\n",
              "      <th>4</th>\n",
              "      <td>5</td>\n",
              "      <td>Christine Jacoba Aaftink</td>\n",
              "      <td>F</td>\n",
              "      <td>21.0</td>\n",
              "      <td>185.0</td>\n",
              "      <td>82.0</td>\n",
              "      <td>Netherlands</td>\n",
              "      <td>NED</td>\n",
              "      <td>1988 Winter</td>\n",
              "      <td>1988</td>\n",
              "      <td>Winter</td>\n",
              "      <td>Calgary</td>\n",
              "      <td>Speed Skating</td>\n",
              "      <td>Speed Skating Women's 500 metres</td>\n",
              "      <td>NaN</td>\n",
              "    </tr>\n",
              "  </tbody>\n",
              "</table>\n",
              "</div>\n",
              "    <div class=\"colab-df-buttons\">\n",
              "\n",
              "  <div class=\"colab-df-container\">\n",
              "    <button class=\"colab-df-convert\" onclick=\"convertToInteractive('df-afdf8ff6-57bf-4960-9bbd-d9e309bde38c')\"\n",
              "            title=\"Convert this dataframe to an interactive table.\"\n",
              "            style=\"display:none;\">\n",
              "\n",
              "  <svg xmlns=\"http://www.w3.org/2000/svg\" height=\"24px\" viewBox=\"0 -960 960 960\">\n",
              "    <path d=\"M120-120v-720h720v720H120Zm60-500h600v-160H180v160Zm220 220h160v-160H400v160Zm0 220h160v-160H400v160ZM180-400h160v-160H180v160Zm440 0h160v-160H620v160ZM180-180h160v-160H180v160Zm440 0h160v-160H620v160Z\"/>\n",
              "  </svg>\n",
              "    </button>\n",
              "\n",
              "  <style>\n",
              "    .colab-df-container {\n",
              "      display:flex;\n",
              "      gap: 12px;\n",
              "    }\n",
              "\n",
              "    .colab-df-convert {\n",
              "      background-color: #E8F0FE;\n",
              "      border: none;\n",
              "      border-radius: 50%;\n",
              "      cursor: pointer;\n",
              "      display: none;\n",
              "      fill: #1967D2;\n",
              "      height: 32px;\n",
              "      padding: 0 0 0 0;\n",
              "      width: 32px;\n",
              "    }\n",
              "\n",
              "    .colab-df-convert:hover {\n",
              "      background-color: #E2EBFA;\n",
              "      box-shadow: 0px 1px 2px rgba(60, 64, 67, 0.3), 0px 1px 3px 1px rgba(60, 64, 67, 0.15);\n",
              "      fill: #174EA6;\n",
              "    }\n",
              "\n",
              "    .colab-df-buttons div {\n",
              "      margin-bottom: 4px;\n",
              "    }\n",
              "\n",
              "    [theme=dark] .colab-df-convert {\n",
              "      background-color: #3B4455;\n",
              "      fill: #D2E3FC;\n",
              "    }\n",
              "\n",
              "    [theme=dark] .colab-df-convert:hover {\n",
              "      background-color: #434B5C;\n",
              "      box-shadow: 0px 1px 3px 1px rgba(0, 0, 0, 0.15);\n",
              "      filter: drop-shadow(0px 1px 2px rgba(0, 0, 0, 0.3));\n",
              "      fill: #FFFFFF;\n",
              "    }\n",
              "  </style>\n",
              "\n",
              "    <script>\n",
              "      const buttonEl =\n",
              "        document.querySelector('#df-afdf8ff6-57bf-4960-9bbd-d9e309bde38c button.colab-df-convert');\n",
              "      buttonEl.style.display =\n",
              "        google.colab.kernel.accessAllowed ? 'block' : 'none';\n",
              "\n",
              "      async function convertToInteractive(key) {\n",
              "        const element = document.querySelector('#df-afdf8ff6-57bf-4960-9bbd-d9e309bde38c');\n",
              "        const dataTable =\n",
              "          await google.colab.kernel.invokeFunction('convertToInteractive',\n",
              "                                                    [key], {});\n",
              "        if (!dataTable) return;\n",
              "\n",
              "        const docLinkHtml = 'Like what you see? Visit the ' +\n",
              "          '<a target=\"_blank\" href=https://colab.research.google.com/notebooks/data_table.ipynb>data table notebook</a>'\n",
              "          + ' to learn more about interactive tables.';\n",
              "        element.innerHTML = '';\n",
              "        dataTable['output_type'] = 'display_data';\n",
              "        await google.colab.output.renderOutput(dataTable, element);\n",
              "        const docLink = document.createElement('div');\n",
              "        docLink.innerHTML = docLinkHtml;\n",
              "        element.appendChild(docLink);\n",
              "      }\n",
              "    </script>\n",
              "  </div>\n",
              "\n",
              "\n",
              "<div id=\"df-f102634e-36c2-4941-8081-ea7d73517f0c\">\n",
              "  <button class=\"colab-df-quickchart\" onclick=\"quickchart('df-f102634e-36c2-4941-8081-ea7d73517f0c')\"\n",
              "            title=\"Suggest charts.\"\n",
              "            style=\"display:none;\">\n",
              "\n",
              "<svg xmlns=\"http://www.w3.org/2000/svg\" height=\"24px\"viewBox=\"0 0 24 24\"\n",
              "     width=\"24px\">\n",
              "    <g>\n",
              "        <path d=\"M19 3H5c-1.1 0-2 .9-2 2v14c0 1.1.9 2 2 2h14c1.1 0 2-.9 2-2V5c0-1.1-.9-2-2-2zM9 17H7v-7h2v7zm4 0h-2V7h2v10zm4 0h-2v-4h2v4z\"/>\n",
              "    </g>\n",
              "</svg>\n",
              "  </button>\n",
              "\n",
              "<style>\n",
              "  .colab-df-quickchart {\n",
              "      --bg-color: #E8F0FE;\n",
              "      --fill-color: #1967D2;\n",
              "      --hover-bg-color: #E2EBFA;\n",
              "      --hover-fill-color: #174EA6;\n",
              "      --disabled-fill-color: #AAA;\n",
              "      --disabled-bg-color: #DDD;\n",
              "  }\n",
              "\n",
              "  [theme=dark] .colab-df-quickchart {\n",
              "      --bg-color: #3B4455;\n",
              "      --fill-color: #D2E3FC;\n",
              "      --hover-bg-color: #434B5C;\n",
              "      --hover-fill-color: #FFFFFF;\n",
              "      --disabled-bg-color: #3B4455;\n",
              "      --disabled-fill-color: #666;\n",
              "  }\n",
              "\n",
              "  .colab-df-quickchart {\n",
              "    background-color: var(--bg-color);\n",
              "    border: none;\n",
              "    border-radius: 50%;\n",
              "    cursor: pointer;\n",
              "    display: none;\n",
              "    fill: var(--fill-color);\n",
              "    height: 32px;\n",
              "    padding: 0;\n",
              "    width: 32px;\n",
              "  }\n",
              "\n",
              "  .colab-df-quickchart:hover {\n",
              "    background-color: var(--hover-bg-color);\n",
              "    box-shadow: 0 1px 2px rgba(60, 64, 67, 0.3), 0 1px 3px 1px rgba(60, 64, 67, 0.15);\n",
              "    fill: var(--button-hover-fill-color);\n",
              "  }\n",
              "\n",
              "  .colab-df-quickchart-complete:disabled,\n",
              "  .colab-df-quickchart-complete:disabled:hover {\n",
              "    background-color: var(--disabled-bg-color);\n",
              "    fill: var(--disabled-fill-color);\n",
              "    box-shadow: none;\n",
              "  }\n",
              "\n",
              "  .colab-df-spinner {\n",
              "    border: 2px solid var(--fill-color);\n",
              "    border-color: transparent;\n",
              "    border-bottom-color: var(--fill-color);\n",
              "    animation:\n",
              "      spin 1s steps(1) infinite;\n",
              "  }\n",
              "\n",
              "  @keyframes spin {\n",
              "    0% {\n",
              "      border-color: transparent;\n",
              "      border-bottom-color: var(--fill-color);\n",
              "      border-left-color: var(--fill-color);\n",
              "    }\n",
              "    20% {\n",
              "      border-color: transparent;\n",
              "      border-left-color: var(--fill-color);\n",
              "      border-top-color: var(--fill-color);\n",
              "    }\n",
              "    30% {\n",
              "      border-color: transparent;\n",
              "      border-left-color: var(--fill-color);\n",
              "      border-top-color: var(--fill-color);\n",
              "      border-right-color: var(--fill-color);\n",
              "    }\n",
              "    40% {\n",
              "      border-color: transparent;\n",
              "      border-right-color: var(--fill-color);\n",
              "      border-top-color: var(--fill-color);\n",
              "    }\n",
              "    60% {\n",
              "      border-color: transparent;\n",
              "      border-right-color: var(--fill-color);\n",
              "    }\n",
              "    80% {\n",
              "      border-color: transparent;\n",
              "      border-right-color: var(--fill-color);\n",
              "      border-bottom-color: var(--fill-color);\n",
              "    }\n",
              "    90% {\n",
              "      border-color: transparent;\n",
              "      border-bottom-color: var(--fill-color);\n",
              "    }\n",
              "  }\n",
              "</style>\n",
              "\n",
              "  <script>\n",
              "    async function quickchart(key) {\n",
              "      const quickchartButtonEl =\n",
              "        document.querySelector('#' + key + ' button');\n",
              "      quickchartButtonEl.disabled = true;  // To prevent multiple clicks.\n",
              "      quickchartButtonEl.classList.add('colab-df-spinner');\n",
              "      try {\n",
              "        const charts = await google.colab.kernel.invokeFunction(\n",
              "            'suggestCharts', [key], {});\n",
              "      } catch (error) {\n",
              "        console.error('Error during call to suggestCharts:', error);\n",
              "      }\n",
              "      quickchartButtonEl.classList.remove('colab-df-spinner');\n",
              "      quickchartButtonEl.classList.add('colab-df-quickchart-complete');\n",
              "    }\n",
              "    (() => {\n",
              "      let quickchartButtonEl =\n",
              "        document.querySelector('#df-f102634e-36c2-4941-8081-ea7d73517f0c button');\n",
              "      quickchartButtonEl.style.display =\n",
              "        google.colab.kernel.accessAllowed ? 'block' : 'none';\n",
              "    })();\n",
              "  </script>\n",
              "</div>\n",
              "\n",
              "    </div>\n",
              "  </div>\n"
            ]
          },
          "metadata": {},
          "execution_count": 42
        }
      ]
    },
    {
      "cell_type": "markdown",
      "source": [
        "**Step 2: Sample**\n",
        "\n",
        "Given the dataset's size, we'll determine if we need to work with a subset of the data. If the dataset is large, working with a sample can make the initial exploration and modeling process more efficient.\n",
        "\n",
        "Check Dataset Size:\n",
        "It's essential to understand the dataset's dimensions to decide if sampling is necessary.\n",
        "\n",
        "Handle Missing Values for Sampling:\n",
        "For stratified sampling, we need to ensure the column we're stratifying by (in this case, 'Medal') doesn't have missing values.\n",
        "\n",
        "Stratified Sampling:\n",
        "We'll sample a subset of the data while preserving the distribution of the 'Medal' column."
      ],
      "metadata": {
        "id": "hjNhb7W-3u5m"
      }
    },
    {
      "cell_type": "code",
      "source": [
        "from sklearn.model_selection import train_test_split\n",
        "\n",
        "# Check the size of the dataset\n",
        "num_rows, num_columns = olympics_df.shape\n",
        "print(f\"The dataset has {num_rows} rows and {num_columns} columns.\")\n",
        "\n",
        "# Replace NaN values in 'Medal' column with \"No Medal\"\n",
        "olympics_df['Medal'].fillna(\"No Medal\", inplace=True)\n",
        "\n",
        "# Stratified sampling to get a representative subset\n",
        "sample_size = 0.2  # This represents 20% of the data\n",
        "sampled_df, _ = train_test_split(olympics_df, test_size=1-sample_size, stratify=olympics_df['Medal'], random_state=42)\n",
        "\n",
        "# Display the size of the sampled data and the distribution of the 'Medal' column\n",
        "print(\"\\nSampled Data Size:\", sampled_df.shape)\n",
        "print(\"\\nDistribution of Medals in Sampled Data:\\n\", sampled_df['Medal'].value_counts(normalize=True))\n"
      ],
      "metadata": {
        "colab": {
          "base_uri": "https://localhost:8080/"
        },
        "id": "AuqNL1jd4TsE",
        "outputId": "740ddc32-b348-4844-9599-b735819565d7"
      },
      "execution_count": 43,
      "outputs": [
        {
          "output_type": "stream",
          "name": "stdout",
          "text": [
            "The dataset has 70000 rows and 15 columns.\n",
            "\n",
            "Sampled Data Size: (14000, 15)\n",
            "\n",
            "Distribution of Medals in Sampled Data:\n",
            " No Medal    0.861571\n",
            "Gold        0.047000\n",
            "Bronze      0.045857\n",
            "Silver      0.045571\n",
            "Name: Medal, dtype: float64\n"
          ]
        }
      ]
    },
    {
      "cell_type": "code",
      "source": [
        "import seaborn as sns\n",
        "import matplotlib.pyplot as plt\n",
        "\n",
        "# Setting up the visual style\n",
        "sns.set_style(\"whitegrid\")\n",
        "\n",
        "# Initializing the figure\n",
        "plt.figure(figsize=(18, 12))\n",
        "\n",
        "# Subplot for Age distribution\n",
        "plt.subplot(2, 2, 1)\n",
        "sns.histplot(sampled_df['Age'], kde=True, bins=30)\n",
        "plt.title('Distribution of Age')\n",
        "plt.xlabel('Age')\n",
        "plt.ylabel('Count')\n",
        "\n",
        "# Subplot for Height distribution\n",
        "plt.subplot(2, 2, 2)\n",
        "sns.histplot(sampled_df['Height'], kde=True, bins=30)\n",
        "plt.title('Distribution of Height (in cm)')\n",
        "plt.xlabel('Height (cm)')\n",
        "plt.ylabel('Count')\n",
        "\n",
        "# Subplot for Weight distribution\n",
        "plt.subplot(2, 2, 3)\n",
        "sns.histplot(sampled_df['Weight'], kde=True, bins=30)\n",
        "plt.title('Distribution of Weight (in kg)')\n",
        "plt.xlabel('Weight (kg)')\n",
        "plt.ylabel('Count')\n",
        "\n",
        "# Subplot for Medal distribution\n",
        "plt.subplot(2, 2, 4)\n",
        "sns.countplot(data=sampled_df, x='Medal', order=['Gold', 'Silver', 'Bronze', 'No Medal'])\n",
        "plt.title('Distribution of Medals')\n",
        "plt.xlabel('Medal Type')\n",
        "plt.ylabel('Count')\n",
        "\n",
        "plt.tight_layout()\n",
        "plt.show()\n"
      ],
      "metadata": {
        "colab": {
          "base_uri": "https://localhost:8080/",
          "height": 1000
        },
        "id": "OrR3j3Ld43zc",
        "outputId": "5054cb11-d1df-4d52-f29c-e52d346dde6d"
      },
      "execution_count": 44,
      "outputs": [
        {
          "output_type": "display_data",
          "data": {
            "text/plain": [
              "<Figure size 1800x1200 with 4 Axes>"
            ],
            "image/png": "[encoded data removed]"
          },
          "metadata": {}
        }
      ]
    },
    {
      "cell_type": "markdown",
      "source": [
        "Here are the visualized distributions for the sampled dataset:\n",
        "\n",
        "Distribution of Age: The majority of athletes are in the age range of 20 to 30 years. There's a tail extending towards older ages, indicating fewer older participants.\n",
        "Distribution of Height (in cm): Most athletes' heights lie between 160cm to 200cm, with peaks around 170cm and 180cm.\n",
        "Distribution of Weight (in kg): The weight distribution is right-skewed with most athletes weighing between 50kg to 90kg.\n",
        "Distribution of Medals: The vast majority of entries are \"No Medal\", which is expected as not every participant wins a medal. Among the medals, the distribution appears relatively even across Gold, Silver, and Bronze."
      ],
      "metadata": {
        "id": "UVOd092J5oNq"
      }
    },
    {
      "cell_type": "markdown",
      "source": [
        "# **2 Modify**"
      ],
      "metadata": {
        "id": "rQg2LU1D5p5s"
      }
    },
    {
      "cell_type": "markdown",
      "source": [
        "In the Modify phase, we'll prepare the data for modeling. This phase often involves several tasks:\n",
        "\n",
        "Handling Missing Values: We need to address any missing values in the dataset. Depending on the nature and amount of missing data, we might fill them with a certain value (imputation), or we might remove records that have missing values.\n",
        "\n",
        "Feature Engineering: This involves creating new features from the existing ones to enhance the predictive power of the model.\n",
        "\n",
        "Encoding Categorical Variables: Machine learning models require numerical input, so we'll need to convert categorical variables into a numerical format. Common methods include one-hot encoding and label encoding.\n",
        "\n",
        "Feature Scaling: Some models are sensitive to the scale of input features. Therefore, we might need to standardize or normalize numerical features."
      ],
      "metadata": {
        "id": "FjDzxOyY56Vj"
      }
    },
    {
      "cell_type": "markdown",
      "source": [
        "### ** Handling Missing Values.**"
      ],
      "metadata": {
        "id": "c5fUkuxT58ed"
      }
    },
    {
      "cell_type": "code",
      "source": [
        "# Check for missing values in the sampled dataset\n",
        "missing_values = sampled_df.isnull().sum()\n",
        "missing_values = missing_values[missing_values > 0].sort_values(ascending=False)\n",
        "missing_values_percentage = (sampled_df.isnull().mean() * 100).round(2)\n",
        "missing_values_percentage = missing_values_percentage[missing_values_percentage > 0].sort_values(ascending=False)\n",
        "\n",
        "# Display columns with missing values and their counts and percentages\n",
        "pd.DataFrame({'Missing Values': missing_values, 'Percentage (%)': missing_values_percentage})\n"
      ],
      "metadata": {
        "colab": {
          "base_uri": "https://localhost:8080/",
          "height": 143
        },
        "id": "ID_OFFOh6Eme",
        "outputId": "6313a312-f91c-4d82-f3b3-fbf59948b9a6"
      },
      "execution_count": 45,
      "outputs": [
        {
          "output_type": "execute_result",
          "data": {
            "text/plain": [
              "        Missing Values  Percentage (%)\n",
              "Weight            3358           23.99\n",
              "Height            3201           22.86\n",
              "Age                525            3.75"
            ],
            "text/html": [
              "\n",
              "  <div id=\"df-d60769a3-17ca-438b-b6b0-c01ccb9456ff\" class=\"colab-df-container\">\n",
              "    <div>\n",
              "<style scoped>\n",
              "    .dataframe tbody tr th:only-of-type {\n",
              "        vertical-align: middle;\n",
              "    }\n",
              "\n",
              "    .dataframe tbody tr th {\n",
              "        vertical-align: top;\n",
              "    }\n",
              "\n",
              "    .dataframe thead th {\n",
              "        text-align: right;\n",
              "    }\n",
              "</style>\n",
              "<table border=\"1\" class=\"dataframe\">\n",
              "  <thead>\n",
              "    <tr style=\"text-align: right;\">\n",
              "      <th></th>\n",
              "      <th>Missing Values</th>\n",
              "      <th>Percentage (%)</th>\n",
              "    </tr>\n",
              "  </thead>\n",
              "  <tbody>\n",
              "    <tr>\n",
              "      <th>Weight</th>\n",
              "      <td>3358</td>\n",
              "      <td>23.99</td>\n",
              "    </tr>\n",
              "    <tr>\n",
              "      <th>Height</th>\n",
              "      <td>3201</td>\n",
              "      <td>22.86</td>\n",
              "    </tr>\n",
              "    <tr>\n",
              "      <th>Age</th>\n",
              "      <td>525</td>\n",
              "      <td>3.75</td>\n",
              "    </tr>\n",
              "  </tbody>\n",
              "</table>\n",
              "</div>\n",
              "    <div class=\"colab-df-buttons\">\n",
              "\n",
              "  <div class=\"colab-df-container\">\n",
              "    <button class=\"colab-df-convert\" onclick=\"convertToInteractive('df-d60769a3-17ca-438b-b6b0-c01ccb9456ff')\"\n",
              "            title=\"Convert this dataframe to an interactive table.\"\n",
              "            style=\"display:none;\">\n",
              "\n",
              "  <svg xmlns=\"http://www.w3.org/2000/svg\" height=\"24px\" viewBox=\"0 -960 960 960\">\n",
              "    <path d=\"M120-120v-720h720v720H120Zm60-500h600v-160H180v160Zm220 220h160v-160H400v160Zm0 220h160v-160H400v160ZM180-400h160v-160H180v160Zm440 0h160v-160H620v160ZM180-180h160v-160H180v160Zm440 0h160v-160H620v160Z\"/>\n",
              "  </svg>\n",
              "    </button>\n",
              "\n",
              "  <style>\n",
              "    .colab-df-container {\n",
              "      display:flex;\n",
              "      gap: 12px;\n",
              "    }\n",
              "\n",
              "    .colab-df-convert {\n",
              "      background-color: #E8F0FE;\n",
              "      border: none;\n",
              "      border-radius: 50%;\n",
              "      cursor: pointer;\n",
              "      display: none;\n",
              "      fill: #1967D2;\n",
              "      height: 32px;\n",
              "      padding: 0 0 0 0;\n",
              "      width: 32px;\n",
              "    }\n",
              "\n",
              "    .colab-df-convert:hover {\n",
              "      background-color: #E2EBFA;\n",
              "      box-shadow: 0px 1px 2px rgba(60, 64, 67, 0.3), 0px 1px 3px 1px rgba(60, 64, 67, 0.15);\n",
              "      fill: #174EA6;\n",
              "    }\n",
              "\n",
              "    .colab-df-buttons div {\n",
              "      margin-bottom: 4px;\n",
              "    }\n",
              "\n",
              "    [theme=dark] .colab-df-convert {\n",
              "      background-color: #3B4455;\n",
              "      fill: #D2E3FC;\n",
              "    }\n",
              "\n",
              "    [theme=dark] .colab-df-convert:hover {\n",
              "      background-color: #434B5C;\n",
              "      box-shadow: 0px 1px 3px 1px rgba(0, 0, 0, 0.15);\n",
              "      filter: drop-shadow(0px 1px 2px rgba(0, 0, 0, 0.3));\n",
              "      fill: #FFFFFF;\n",
              "    }\n",
              "  </style>\n",
              "\n",
              "    <script>\n",
              "      const buttonEl =\n",
              "        document.querySelector('#df-d60769a3-17ca-438b-b6b0-c01ccb9456ff button.colab-df-convert');\n",
              "      buttonEl.style.display =\n",
              "        google.colab.kernel.accessAllowed ? 'block' : 'none';\n",
              "\n",
              "      async function convertToInteractive(key) {\n",
              "        const element = document.querySelector('#df-d60769a3-17ca-438b-b6b0-c01ccb9456ff');\n",
              "        const dataTable =\n",
              "          await google.colab.kernel.invokeFunction('convertToInteractive',\n",
              "                                                    [key], {});\n",
              "        if (!dataTable) return;\n",
              "\n",
              "        const docLinkHtml = 'Like what you see? Visit the ' +\n",
              "          '<a target=\"_blank\" href=https://colab.research.google.com/notebooks/data_table.ipynb>data table notebook</a>'\n",
              "          + ' to learn more about interactive tables.';\n",
              "        element.innerHTML = '';\n",
              "        dataTable['output_type'] = 'display_data';\n",
              "        await google.colab.output.renderOutput(dataTable, element);\n",
              "        const docLink = document.createElement('div');\n",
              "        docLink.innerHTML = docLinkHtml;\n",
              "        element.appendChild(docLink);\n",
              "      }\n",
              "    </script>\n",
              "  </div>\n",
              "\n",
              "\n",
              "<div id=\"df-f17f273e-08ce-411a-adfb-05d582c36cd8\">\n",
              "  <button class=\"colab-df-quickchart\" onclick=\"quickchart('df-f17f273e-08ce-411a-adfb-05d582c36cd8')\"\n",
              "            title=\"Suggest charts.\"\n",
              "            style=\"display:none;\">\n",
              "\n",
              "<svg xmlns=\"http://www.w3.org/2000/svg\" height=\"24px\"viewBox=\"0 0 24 24\"\n",
              "     width=\"24px\">\n",
              "    <g>\n",
              "        <path d=\"M19 3H5c-1.1 0-2 .9-2 2v14c0 1.1.9 2 2 2h14c1.1 0 2-.9 2-2V5c0-1.1-.9-2-2-2zM9 17H7v-7h2v7zm4 0h-2V7h2v10zm4 0h-2v-4h2v4z\"/>\n",
              "    </g>\n",
              "</svg>\n",
              "  </button>\n",
              "\n",
              "<style>\n",
              "  .colab-df-quickchart {\n",
              "      --bg-color: #E8F0FE;\n",
              "      --fill-color: #1967D2;\n",
              "      --hover-bg-color: #E2EBFA;\n",
              "      --hover-fill-color: #174EA6;\n",
              "      --disabled-fill-color: #AAA;\n",
              "      --disabled-bg-color: #DDD;\n",
              "  }\n",
              "\n",
              "  [theme=dark] .colab-df-quickchart {\n",
              "      --bg-color: #3B4455;\n",
              "      --fill-color: #D2E3FC;\n",
              "      --hover-bg-color: #434B5C;\n",
              "      --hover-fill-color: #FFFFFF;\n",
              "      --disabled-bg-color: #3B4455;\n",
              "      --disabled-fill-color: #666;\n",
              "  }\n",
              "\n",
              "  .colab-df-quickchart {\n",
              "    background-color: var(--bg-color);\n",
              "    border: none;\n",
              "    border-radius: 50%;\n",
              "    cursor: pointer;\n",
              "    display: none;\n",
              "    fill: var(--fill-color);\n",
              "    height: 32px;\n",
              "    padding: 0;\n",
              "    width: 32px;\n",
              "  }\n",
              "\n",
              "  .colab-df-quickchart:hover {\n",
              "    background-color: var(--hover-bg-color);\n",
              "    box-shadow: 0 1px 2px rgba(60, 64, 67, 0.3), 0 1px 3px 1px rgba(60, 64, 67, 0.15);\n",
              "    fill: var(--button-hover-fill-color);\n",
              "  }\n",
              "\n",
              "  .colab-df-quickchart-complete:disabled,\n",
              "  .colab-df-quickchart-complete:disabled:hover {\n",
              "    background-color: var(--disabled-bg-color);\n",
              "    fill: var(--disabled-fill-color);\n",
              "    box-shadow: none;\n",
              "  }\n",
              "\n",
              "  .colab-df-spinner {\n",
              "    border: 2px solid var(--fill-color);\n",
              "    border-color: transparent;\n",
              "    border-bottom-color: var(--fill-color);\n",
              "    animation:\n",
              "      spin 1s steps(1) infinite;\n",
              "  }\n",
              "\n",
              "  @keyframes spin {\n",
              "    0% {\n",
              "      border-color: transparent;\n",
              "      border-bottom-color: var(--fill-color);\n",
              "      border-left-color: var(--fill-color);\n",
              "    }\n",
              "    20% {\n",
              "      border-color: transparent;\n",
              "      border-left-color: var(--fill-color);\n",
              "      border-top-color: var(--fill-color);\n",
              "    }\n",
              "    30% {\n",
              "      border-color: transparent;\n",
              "      border-left-color: var(--fill-color);\n",
              "      border-top-color: var(--fill-color);\n",
              "      border-right-color: var(--fill-color);\n",
              "    }\n",
              "    40% {\n",
              "      border-color: transparent;\n",
              "      border-right-color: var(--fill-color);\n",
              "      border-top-color: var(--fill-color);\n",
              "    }\n",
              "    60% {\n",
              "      border-color: transparent;\n",
              "      border-right-color: var(--fill-color);\n",
              "    }\n",
              "    80% {\n",
              "      border-color: transparent;\n",
              "      border-right-color: var(--fill-color);\n",
              "      border-bottom-color: var(--fill-color);\n",
              "    }\n",
              "    90% {\n",
              "      border-color: transparent;\n",
              "      border-bottom-color: var(--fill-color);\n",
              "    }\n",
              "  }\n",
              "</style>\n",
              "\n",
              "  <script>\n",
              "    async function quickchart(key) {\n",
              "      const quickchartButtonEl =\n",
              "        document.querySelector('#' + key + ' button');\n",
              "      quickchartButtonEl.disabled = true;  // To prevent multiple clicks.\n",
              "      quickchartButtonEl.classList.add('colab-df-spinner');\n",
              "      try {\n",
              "        const charts = await google.colab.kernel.invokeFunction(\n",
              "            'suggestCharts', [key], {});\n",
              "      } catch (error) {\n",
              "        console.error('Error during call to suggestCharts:', error);\n",
              "      }\n",
              "      quickchartButtonEl.classList.remove('colab-df-spinner');\n",
              "      quickchartButtonEl.classList.add('colab-df-quickchart-complete');\n",
              "    }\n",
              "    (() => {\n",
              "      let quickchartButtonEl =\n",
              "        document.querySelector('#df-f17f273e-08ce-411a-adfb-05d582c36cd8 button');\n",
              "      quickchartButtonEl.style.display =\n",
              "        google.colab.kernel.accessAllowed ? 'block' : 'none';\n",
              "    })();\n",
              "  </script>\n",
              "</div>\n",
              "\n",
              "    </div>\n",
              "  </div>\n"
            ]
          },
          "metadata": {},
          "execution_count": 45
        }
      ]
    },
    {
      "cell_type": "markdown",
      "source": [
        "**Based on our inspection of the missing values:**\n",
        "\n",
        "\n",
        "Weight: 3,358 missing values (23.99% of the sampled dataset).\n",
        "Height: 3,201 missing values (22.86% of the sampled dataset).\n",
        "Age: 525 missing values (3.75% of the sampled dataset).\n",
        "\n",
        "Given the nature of the missing data, here's a proposed approach:\n",
        "\n",
        "Weight & Height: Given that these are continuous variables, one common approach is to impute the missing values with the median or mean of the respective columns. The median is often preferred as it's less sensitive to outliers.\n",
        "Age: Similarly, we can impute the missing ages with the media"
      ],
      "metadata": {
        "id": "Ix0uIc006YjT"
      }
    },
    {
      "cell_type": "code",
      "source": [
        "# Impute missing values for 'Weight', 'Height', and 'Age' using their respective medians\n",
        "sampled_df['Weight'].fillna(sampled_df['Weight'].median(), inplace=True)\n",
        "sampled_df['Height'].fillna(sampled_df['Height'].median(), inplace=True)\n",
        "sampled_df['Age'].fillna(sampled_df['Age'].median(), inplace=True)\n",
        "\n",
        "# Verify if there are still any missing values\n",
        "remaining_missing_values = sampled_df.isnull().sum().sum()\n",
        "remaining_missing_values\n"
      ],
      "metadata": {
        "colab": {
          "base_uri": "https://localhost:8080/"
        },
        "id": "vs0Hv9W-6d07",
        "outputId": "43e6f49e-5352-4ba8-9939-5c7a89b21eff"
      },
      "execution_count": 46,
      "outputs": [
        {
          "output_type": "execute_result",
          "data": {
            "text/plain": [
              "0"
            ]
          },
          "metadata": {},
          "execution_count": 46
        }
      ]
    },
    {
      "cell_type": "markdown",
      "source": [
        "All missing values have been successfully imputed, and the dataset no longer contains any missing entries."
      ],
      "metadata": {
        "id": "IR7ekNFL6qZX"
      }
    },
    {
      "cell_type": "markdown",
      "source": [
        "**Encoding Categorical Variables.**"
      ],
      "metadata": {
        "id": "vIse-Tdz6sBB"
      }
    },
    {
      "cell_type": "markdown",
      "source": [],
      "metadata": {
        "id": "-nCakTqY628V"
      }
    },
    {
      "cell_type": "markdown",
      "source": [
        "Given our objective of predicting medal wins, the \"Medal\" column will be our target variable. For the features, we need to encode categorical variables like \"Sex\", \"Team\", \"NOC\", \"Games\", \"Season\", \"City\", \"Sport\", and \"Event\" into a format suitable for machine learning models.\n",
        "\n",
        "Considering the number of unique values in some of these columns, one-hot encoding might increase the dimensionality significantly. We'll start by inspecting the number of unique values in each of these categorical columns."
      ],
      "metadata": {
        "id": "N-RzzBpE69CA"
      }
    },
    {
      "cell_type": "markdown",
      "source": [],
      "metadata": {
        "id": "ZLMAmc5q6-wY"
      }
    },
    {
      "cell_type": "code",
      "source": [
        "# Check the number of unique values in each categorical column\n",
        "unique_values = sampled_df[['Sex', 'Team', 'NOC', 'Games', 'Season', 'City', 'Sport', 'Event']].nunique()\n",
        "unique_values\n"
      ],
      "metadata": {
        "colab": {
          "base_uri": "https://localhost:8080/"
        },
        "id": "Az9bolQk7C6M",
        "outputId": "6d0dd40c-7461-453d-c572-56c959c98a86"
      },
      "execution_count": 47,
      "outputs": [
        {
          "output_type": "execute_result",
          "data": {
            "text/plain": [
              "Sex         2\n",
              "Team      435\n",
              "NOC       209\n",
              "Games      51\n",
              "Season      2\n",
              "City       42\n",
              "Sport      60\n",
              "Event     664\n",
              "dtype: int64"
            ]
          },
          "metadata": {},
          "execution_count": 47
        }
      ]
    },
    {
      "cell_type": "markdown",
      "source": [
        "Here's the count of unique values in the categorical columns:\n",
        "\n",
        "\n",
        "Sex: 2 unique values\n",
        "Team: 435 unique values\n",
        "NOC (National Olympic Committee): 209 unique values\n",
        "Games: 51 unique values\n",
        "Season: 2 unique values\n",
        "City: 42 unique values\n",
        "Sport: 60 unique values\n",
        "Event: 664 unique values\n",
        "\n",
        "Given the number of unique values:\n",
        "\n",
        "\n",
        "For columns with a low number of unique values (like \"Sex\" and \"Season\"), we can use one-hot encoding.\n",
        "For columns with a high number of unique values (like \"Team\", \"NOC\", \"Games\", \"City\", \"Sport\", and \"Event\"), using one-hot encoding would significantly increase the dimensionality. Instead, we can use label encoding for these columns. However, keep in mind that label encoding introduces an ordinal relationship, which might not be inherently present. For tree-based models, this isn't an issue, but for linear models, it can be."
      ],
      "metadata": {
        "id": "UhxK7vms7PU6"
      }
    },
    {
      "cell_type": "code",
      "source": [
        "from sklearn.preprocessing import LabelEncoder\n",
        "\n",
        "# One-hot encode columns with fewer unique values\n",
        "sampled_df = pd.get_dummies(sampled_df, columns=['Sex', 'Season'], drop_first=True)\n",
        "\n",
        "# Label encode columns with a higher number of unique values\n",
        "label_encoders = {}\n",
        "columns_to_encode = ['Team', 'NOC', 'Games', 'City', 'Sport', 'Event']\n",
        "\n",
        "for column in columns_to_encode:\n",
        "    le = LabelEncoder()\n",
        "    sampled_df[column] = le.fit_transform(sampled_df[column])\n",
        "    label_encoders[column] = le  # Store the encoder for potential inverse transformation later\n",
        "\n",
        "# Display the first few rows of the modified dataset\n",
        "sampled_df.head()\n"
      ],
      "metadata": {
        "colab": {
          "base_uri": "https://localhost:8080/",
          "height": 206
        },
        "id": "qvQkt34S7U7F",
        "outputId": "872c735b-e3af-450d-aeaf-9a75fb478d0d"
      },
      "execution_count": 48,
      "outputs": [
        {
          "output_type": "execute_result",
          "data": {
            "text/plain": [
              "          ID                                     Name   Age  Height  Weight  \\\n",
              "43705  22536                    Nestor Landag Colonia  24.0   158.0    59.0   \n",
              "23795  12502  Liudmyla Kostiantynivna Bobrus-Poradnyk  34.0   169.0    63.0   \n",
              "53914  27659                Ferdinand \"Ferdy\" Denzler  26.0   175.0    70.0   \n",
              "67564  34532               Christel Felgner (-Wunder)  22.0   156.0    50.0   \n",
              "45409  23426            Natalie Anne Coughlin (-Hall)  25.0   173.0    63.0   \n",
              "\n",
              "       Team  NOC  Games  Year  City  Sport  Event     Medal  Sex_M  \\\n",
              "43705   304  144     50  2016    27     58    619  No Medal      1   \n",
              "23795   366  195     31  1980    22     25    343      Gold      0   \n",
              "53914   383  175     13  1936     7     57    617  No Medal      1   \n",
              "67564   151   71     23  1964    39     24    341  No Medal      0   \n",
              "45409   410  197     46  2008     6     48    572    Bronze      0   \n",
              "\n",
              "       Season_Winter  \n",
              "43705              0  \n",
              "23795              0  \n",
              "53914              0  \n",
              "67564              0  \n",
              "45409              0  "
            ],
            "text/html": [
              "\n",
              "  <div id=\"df-592cbd62-ca38-4ab1-9879-4cf84b3bbe97\" class=\"colab-df-container\">\n",
              "    <div>\n",
              "<style scoped>\n",
              "    .dataframe tbody tr th:only-of-type {\n",
              "        vertical-align: middle;\n",
              "    }\n",
              "\n",
              "    .dataframe tbody tr th {\n",
              "        vertical-align: top;\n",
              "    }\n",
              "\n",
              "    .dataframe thead th {\n",
              "        text-align: right;\n",
              "    }\n",
              "</style>\n",
              "<table border=\"1\" class=\"dataframe\">\n",
              "  <thead>\n",
              "    <tr style=\"text-align: right;\">\n",
              "      <th></th>\n",
              "      <th>ID</th>\n",
              "      <th>Name</th>\n",
              "      <th>Age</th>\n",
              "      <th>Height</th>\n",
              "      <th>Weight</th>\n",
              "      <th>Team</th>\n",
              "      <th>NOC</th>\n",
              "      <th>Games</th>\n",
              "      <th>Year</th>\n",
              "      <th>City</th>\n",
              "      <th>Sport</th>\n",
              "      <th>Event</th>\n",
              "      <th>Medal</th>\n",
              "      <th>Sex_M</th>\n",
              "      <th>Season_Winter</th>\n",
              "    </tr>\n",
              "  </thead>\n",
              "  <tbody>\n",
              "    <tr>\n",
              "      <th>43705</th>\n",
              "      <td>22536</td>\n",
              "      <td>Nestor Landag Colonia</td>\n",
              "      <td>24.0</td>\n",
              "      <td>158.0</td>\n",
              "      <td>59.0</td>\n",
              "      <td>304</td>\n",
              "      <td>144</td>\n",
              "      <td>50</td>\n",
              "      <td>2016</td>\n",
              "      <td>27</td>\n",
              "      <td>58</td>\n",
              "      <td>619</td>\n",
              "      <td>No Medal</td>\n",
              "      <td>1</td>\n",
              "      <td>0</td>\n",
              "    </tr>\n",
              "    <tr>\n",
              "      <th>23795</th>\n",
              "      <td>12502</td>\n",
              "      <td>Liudmyla Kostiantynivna Bobrus-Poradnyk</td>\n",
              "      <td>34.0</td>\n",
              "      <td>169.0</td>\n",
              "      <td>63.0</td>\n",
              "      <td>366</td>\n",
              "      <td>195</td>\n",
              "      <td>31</td>\n",
              "      <td>1980</td>\n",
              "      <td>22</td>\n",
              "      <td>25</td>\n",
              "      <td>343</td>\n",
              "      <td>Gold</td>\n",
              "      <td>0</td>\n",
              "      <td>0</td>\n",
              "    </tr>\n",
              "    <tr>\n",
              "      <th>53914</th>\n",
              "      <td>27659</td>\n",
              "      <td>Ferdinand \"Ferdy\" Denzler</td>\n",
              "      <td>26.0</td>\n",
              "      <td>175.0</td>\n",
              "      <td>70.0</td>\n",
              "      <td>383</td>\n",
              "      <td>175</td>\n",
              "      <td>13</td>\n",
              "      <td>1936</td>\n",
              "      <td>7</td>\n",
              "      <td>57</td>\n",
              "      <td>617</td>\n",
              "      <td>No Medal</td>\n",
              "      <td>1</td>\n",
              "      <td>0</td>\n",
              "    </tr>\n",
              "    <tr>\n",
              "      <th>67564</th>\n",
              "      <td>34532</td>\n",
              "      <td>Christel Felgner (-Wunder)</td>\n",
              "      <td>22.0</td>\n",
              "      <td>156.0</td>\n",
              "      <td>50.0</td>\n",
              "      <td>151</td>\n",
              "      <td>71</td>\n",
              "      <td>23</td>\n",
              "      <td>1964</td>\n",
              "      <td>39</td>\n",
              "      <td>24</td>\n",
              "      <td>341</td>\n",
              "      <td>No Medal</td>\n",
              "      <td>0</td>\n",
              "      <td>0</td>\n",
              "    </tr>\n",
              "    <tr>\n",
              "      <th>45409</th>\n",
              "      <td>23426</td>\n",
              "      <td>Natalie Anne Coughlin (-Hall)</td>\n",
              "      <td>25.0</td>\n",
              "      <td>173.0</td>\n",
              "      <td>63.0</td>\n",
              "      <td>410</td>\n",
              "      <td>197</td>\n",
              "      <td>46</td>\n",
              "      <td>2008</td>\n",
              "      <td>6</td>\n",
              "      <td>48</td>\n",
              "      <td>572</td>\n",
              "      <td>Bronze</td>\n",
              "      <td>0</td>\n",
              "      <td>0</td>\n",
              "    </tr>\n",
              "  </tbody>\n",
              "</table>\n",
              "</div>\n",
              "    <div class=\"colab-df-buttons\">\n",
              "\n",
              "  <div class=\"colab-df-container\">\n",
              "    <button class=\"colab-df-convert\" onclick=\"convertToInteractive('df-592cbd62-ca38-4ab1-9879-4cf84b3bbe97')\"\n",
              "            title=\"Convert this dataframe to an interactive table.\"\n",
              "            style=\"display:none;\">\n",
              "\n",
              "  <svg xmlns=\"http://www.w3.org/2000/svg\" height=\"24px\" viewBox=\"0 -960 960 960\">\n",
              "    <path d=\"M120-120v-720h720v720H120Zm60-500h600v-160H180v160Zm220 220h160v-160H400v160Zm0 220h160v-160H400v160ZM180-400h160v-160H180v160Zm440 0h160v-160H620v160ZM180-180h160v-160H180v160Zm440 0h160v-160H620v160Z\"/>\n",
              "  </svg>\n",
              "    </button>\n",
              "\n",
              "  <style>\n",
              "    .colab-df-container {\n",
              "      display:flex;\n",
              "      gap: 12px;\n",
              "    }\n",
              "\n",
              "    .colab-df-convert {\n",
              "      background-color: #E8F0FE;\n",
              "      border: none;\n",
              "      border-radius: 50%;\n",
              "      cursor: pointer;\n",
              "      display: none;\n",
              "      fill: #1967D2;\n",
              "      height: 32px;\n",
              "      padding: 0 0 0 0;\n",
              "      width: 32px;\n",
              "    }\n",
              "\n",
              "    .colab-df-convert:hover {\n",
              "      background-color: #E2EBFA;\n",
              "      box-shadow: 0px 1px 2px rgba(60, 64, 67, 0.3), 0px 1px 3px 1px rgba(60, 64, 67, 0.15);\n",
              "      fill: #174EA6;\n",
              "    }\n",
              "\n",
              "    .colab-df-buttons div {\n",
              "      margin-bottom: 4px;\n",
              "    }\n",
              "\n",
              "    [theme=dark] .colab-df-convert {\n",
              "      background-color: #3B4455;\n",
              "      fill: #D2E3FC;\n",
              "    }\n",
              "\n",
              "    [theme=dark] .colab-df-convert:hover {\n",
              "      background-color: #434B5C;\n",
              "      box-shadow: 0px 1px 3px 1px rgba(0, 0, 0, 0.15);\n",
              "      filter: drop-shadow(0px 1px 2px rgba(0, 0, 0, 0.3));\n",
              "      fill: #FFFFFF;\n",
              "    }\n",
              "  </style>\n",
              "\n",
              "    <script>\n",
              "      const buttonEl =\n",
              "        document.querySelector('#df-592cbd62-ca38-4ab1-9879-4cf84b3bbe97 button.colab-df-convert');\n",
              "      buttonEl.style.display =\n",
              "        google.colab.kernel.accessAllowed ? 'block' : 'none';\n",
              "\n",
              "      async function convertToInteractive(key) {\n",
              "        const element = document.querySelector('#df-592cbd62-ca38-4ab1-9879-4cf84b3bbe97');\n",
              "        const dataTable =\n",
              "          await google.colab.kernel.invokeFunction('convertToInteractive',\n",
              "                                                    [key], {});\n",
              "        if (!dataTable) return;\n",
              "\n",
              "        const docLinkHtml = 'Like what you see? Visit the ' +\n",
              "          '<a target=\"_blank\" href=https://colab.research.google.com/notebooks/data_table.ipynb>data table notebook</a>'\n",
              "          + ' to learn more about interactive tables.';\n",
              "        element.innerHTML = '';\n",
              "        dataTable['output_type'] = 'display_data';\n",
              "        await google.colab.output.renderOutput(dataTable, element);\n",
              "        const docLink = document.createElement('div');\n",
              "        docLink.innerHTML = docLinkHtml;\n",
              "        element.appendChild(docLink);\n",
              "      }\n",
              "    </script>\n",
              "  </div>\n",
              "\n",
              "\n",
              "<div id=\"df-52c4a35c-e3ef-4268-9c98-cf5d7abb33d7\">\n",
              "  <button class=\"colab-df-quickchart\" onclick=\"quickchart('df-52c4a35c-e3ef-4268-9c98-cf5d7abb33d7')\"\n",
              "            title=\"Suggest charts.\"\n",
              "            style=\"display:none;\">\n",
              "\n",
              "<svg xmlns=\"http://www.w3.org/2000/svg\" height=\"24px\"viewBox=\"0 0 24 24\"\n",
              "     width=\"24px\">\n",
              "    <g>\n",
              "        <path d=\"M19 3H5c-1.1 0-2 .9-2 2v14c0 1.1.9 2 2 2h14c1.1 0 2-.9 2-2V5c0-1.1-.9-2-2-2zM9 17H7v-7h2v7zm4 0h-2V7h2v10zm4 0h-2v-4h2v4z\"/>\n",
              "    </g>\n",
              "</svg>\n",
              "  </button>\n",
              "\n",
              "<style>\n",
              "  .colab-df-quickchart {\n",
              "      --bg-color: #E8F0FE;\n",
              "      --fill-color: #1967D2;\n",
              "      --hover-bg-color: #E2EBFA;\n",
              "      --hover-fill-color: #174EA6;\n",
              "      --disabled-fill-color: #AAA;\n",
              "      --disabled-bg-color: #DDD;\n",
              "  }\n",
              "\n",
              "  [theme=dark] .colab-df-quickchart {\n",
              "      --bg-color: #3B4455;\n",
              "      --fill-color: #D2E3FC;\n",
              "      --hover-bg-color: #434B5C;\n",
              "      --hover-fill-color: #FFFFFF;\n",
              "      --disabled-bg-color: #3B4455;\n",
              "      --disabled-fill-color: #666;\n",
              "  }\n",
              "\n",
              "  .colab-df-quickchart {\n",
              "    background-color: var(--bg-color);\n",
              "    border: none;\n",
              "    border-radius: 50%;\n",
              "    cursor: pointer;\n",
              "    display: none;\n",
              "    fill: var(--fill-color);\n",
              "    height: 32px;\n",
              "    padding: 0;\n",
              "    width: 32px;\n",
              "  }\n",
              "\n",
              "  .colab-df-quickchart:hover {\n",
              "    background-color: var(--hover-bg-color);\n",
              "    box-shadow: 0 1px 2px rgba(60, 64, 67, 0.3), 0 1px 3px 1px rgba(60, 64, 67, 0.15);\n",
              "    fill: var(--button-hover-fill-color);\n",
              "  }\n",
              "\n",
              "  .colab-df-quickchart-complete:disabled,\n",
              "  .colab-df-quickchart-complete:disabled:hover {\n",
              "    background-color: var(--disabled-bg-color);\n",
              "    fill: var(--disabled-fill-color);\n",
              "    box-shadow: none;\n",
              "  }\n",
              "\n",
              "  .colab-df-spinner {\n",
              "    border: 2px solid var(--fill-color);\n",
              "    border-color: transparent;\n",
              "    border-bottom-color: var(--fill-color);\n",
              "    animation:\n",
              "      spin 1s steps(1) infinite;\n",
              "  }\n",
              "\n",
              "  @keyframes spin {\n",
              "    0% {\n",
              "      border-color: transparent;\n",
              "      border-bottom-color: var(--fill-color);\n",
              "      border-left-color: var(--fill-color);\n",
              "    }\n",
              "    20% {\n",
              "      border-color: transparent;\n",
              "      border-left-color: var(--fill-color);\n",
              "      border-top-color: var(--fill-color);\n",
              "    }\n",
              "    30% {\n",
              "      border-color: transparent;\n",
              "      border-left-color: var(--fill-color);\n",
              "      border-top-color: var(--fill-color);\n",
              "      border-right-color: var(--fill-color);\n",
              "    }\n",
              "    40% {\n",
              "      border-color: transparent;\n",
              "      border-right-color: var(--fill-color);\n",
              "      border-top-color: var(--fill-color);\n",
              "    }\n",
              "    60% {\n",
              "      border-color: transparent;\n",
              "      border-right-color: var(--fill-color);\n",
              "    }\n",
              "    80% {\n",
              "      border-color: transparent;\n",
              "      border-right-color: var(--fill-color);\n",
              "      border-bottom-color: var(--fill-color);\n",
              "    }\n",
              "    90% {\n",
              "      border-color: transparent;\n",
              "      border-bottom-color: var(--fill-color);\n",
              "    }\n",
              "  }\n",
              "</style>\n",
              "\n",
              "  <script>\n",
              "    async function quickchart(key) {\n",
              "      const quickchartButtonEl =\n",
              "        document.querySelector('#' + key + ' button');\n",
              "      quickchartButtonEl.disabled = true;  // To prevent multiple clicks.\n",
              "      quickchartButtonEl.classList.add('colab-df-spinner');\n",
              "      try {\n",
              "        const charts = await google.colab.kernel.invokeFunction(\n",
              "            'suggestCharts', [key], {});\n",
              "      } catch (error) {\n",
              "        console.error('Error during call to suggestCharts:', error);\n",
              "      }\n",
              "      quickchartButtonEl.classList.remove('colab-df-spinner');\n",
              "      quickchartButtonEl.classList.add('colab-df-quickchart-complete');\n",
              "    }\n",
              "    (() => {\n",
              "      let quickchartButtonEl =\n",
              "        document.querySelector('#df-52c4a35c-e3ef-4268-9c98-cf5d7abb33d7 button');\n",
              "      quickchartButtonEl.style.display =\n",
              "        google.colab.kernel.accessAllowed ? 'block' : 'none';\n",
              "    })();\n",
              "  </script>\n",
              "</div>\n",
              "\n",
              "    </div>\n",
              "  </div>\n"
            ]
          },
          "metadata": {},
          "execution_count": 48
        }
      ]
    },
    {
      "cell_type": "markdown",
      "source": [
        "One-hot Encoding: The columns \"Sex\" and \"Season\" have been one-hot encoded. For example, the \"Sex\" column has been replaced by \"Sex_M\", where a value of 1 indicates male and 0 indicates female. Similarly, \"Season_Winter\" has been added, where a value of 1 indicates the Winter Olympics and 0 indicates the Summer Olympics.\n",
        "Label Encoding: Columns like \"Team\", \"NOC\", \"Games\", \"City\", \"Sport\", and \"Event\" have been label encoded, transforming their categorical values into numerical labels."
      ],
      "metadata": {
        "id": "C4_ifXIW7lfH"
      }
    },
    {
      "cell_type": "markdown",
      "source": [
        "**Feature Engineering**"
      ],
      "metadata": {
        "id": "v57pb2to7n6Q"
      }
    },
    {
      "cell_type": "markdown",
      "source": [
        "BMI (Body Mass Index): This is a measure that can provide insights into an athlete's physical condition. It's calculated as:\n",
        "BMI\n",
        "=\n",
        "Weight (kg)\n",
        "Height (m)\n",
        "2\n",
        "BMI=\n",
        "Height (m)\n",
        "2\n",
        "\n",
        "Weight (kg)\n",
        "​\n",
        "\n",
        "Given the height and weight columns, we can easily compute this.\n",
        "\n",
        "Participation Count: The number of times an athlete has participated in the Olympics might indicate their experience level.\n",
        "\n",
        "Age Group: Categorize athletes into age groups (e.g., 'Young', 'Mid-Aged', 'Senior') based on their age. Different age groups might have different performance levels.\n",
        "\n",
        "Home Advantage: Create a binary feature indicating whether the athlete competed in their home country. Historically, athletes tend to perform better when competing at home due to familiar conditions and home crowd support.\n",
        "\n",
        "Is Team Event: Some events are individual, while others are team-based. We can create a binary feature indicating whether the event is a team event or not. This can be inferred from the 'Event' column.\n",
        "\n",
        "Years Since First Participation: For each athlete, calculate the number of years since their first participation in the Olympics. This can give insights into their experience and tenure in the sports world."
      ],
      "metadata": {
        "id": "5Neqr7qF8YUJ"
      }
    },
    {
      "cell_type": "markdown",
      "source": [],
      "metadata": {
        "id": "fZCD9XJI8pah"
      }
    },
    {
      "cell_type": "code",
      "source": [
        "# 1. BMI (Body Mass Index)\n",
        "sampled_df['BMI'] = sampled_df['Weight'] / (sampled_df['Height'] / 100)**2\n",
        "\n",
        "# 2. Participation Count\n",
        "participation_count = sampled_df.groupby('Name').size()\n",
        "sampled_df['Participation_Count'] = sampled_df['Name'].map(participation_count)\n",
        "\n",
        "# 3. Age Group\n",
        "bins = [0, 20, 30, 40, 100]\n",
        "labels = ['Young', 'Mid-Aged', 'Senior', 'Veteran']\n",
        "sampled_df['Age_Group'] = pd.cut(sampled_df['Age'], bins=bins, labels=labels, right=False)\n",
        "\n",
        "# 4. Home Advantage\n",
        "sampled_df['Home_Advantage'] = (sampled_df['Team'] == sampled_df['City']).astype(int)\n",
        "\n",
        "# 5. Is Team Event\n",
        "# First, reverse the label encoding for the 'Event' column to get back the original string values\n",
        "original_event_values = label_encoders['Event'].inverse_transform(sampled_df['Event'])\n",
        "# Then, determine if an event is a team event\n",
        "team_keywords = ['Team', 'Doubles', 'Relay', 'Pairs', 'Mixed']\n",
        "is_team_event = [any(keyword in event for keyword in team_keywords) for event in original_event_values]\n",
        "sampled_df['Is_Team_Event'] = is_team_event\n",
        "\n",
        "# 6. Years Since First Participation\n",
        "first_participation_year = sampled_df.groupby('Name')['Year'].min()\n",
        "sampled_df['First_Participation_Year'] = sampled_df['Name'].map(first_participation_year)\n",
        "sampled_df['Years_Since_First_Participation'] = sampled_df['Year'] - sampled_df['First_Participation_Year']\n",
        "\n",
        "# Display the first few rows to verify the new features\n",
        "print(sampled_df.head())\n"
      ],
      "metadata": {
        "colab": {
          "base_uri": "https://localhost:8080/"
        },
        "id": "ncoJ6bsL9p9q",
        "outputId": "8ba76411-8a09-4978-85d8-cb2f0dbd9d3a"
      },
      "execution_count": 49,
      "outputs": [
        {
          "output_type": "stream",
          "name": "stdout",
          "text": [
            "          ID                                     Name   Age  Height  Weight  \\\n",
            "43705  22536                    Nestor Landag Colonia  24.0   158.0    59.0   \n",
            "23795  12502  Liudmyla Kostiantynivna Bobrus-Poradnyk  34.0   169.0    63.0   \n",
            "53914  27659                Ferdinand \"Ferdy\" Denzler  26.0   175.0    70.0   \n",
            "67564  34532               Christel Felgner (-Wunder)  22.0   156.0    50.0   \n",
            "45409  23426            Natalie Anne Coughlin (-Hall)  25.0   173.0    63.0   \n",
            "\n",
            "       Team  NOC  Games  Year  City  ...     Medal  Sex_M Season_Winter  \\\n",
            "43705   304  144     50  2016    27  ...  No Medal      1             0   \n",
            "23795   366  195     31  1980    22  ...      Gold      0             0   \n",
            "53914   383  175     13  1936     7  ...  No Medal      1             0   \n",
            "67564   151   71     23  1964    39  ...  No Medal      0             0   \n",
            "45409   410  197     46  2008     6  ...    Bronze      0             0   \n",
            "\n",
            "             BMI  Participation_Count  Age_Group  Home_Advantage  \\\n",
            "43705  23.634033                    1   Mid-Aged               0   \n",
            "23795  22.058051                    1     Senior               0   \n",
            "53914  22.857143                    2   Mid-Aged               0   \n",
            "67564  20.545694                    2   Mid-Aged               0   \n",
            "45409  21.049818                    6   Mid-Aged               0   \n",
            "\n",
            "      Is_Team_Event  First_Participation_Year  Years_Since_First_Participation  \n",
            "43705         False                      2016                                0  \n",
            "23795         False                      1980                                0  \n",
            "53914         False                      1936                                0  \n",
            "67564         False                      1964                                0  \n",
            "45409         False                      2004                                4  \n",
            "\n",
            "[5 rows x 22 columns]\n"
          ]
        }
      ]
    },
    {
      "cell_type": "markdown",
      "source": [
        "BMI (Body Mass Index): This provides a measure of an athlete's physical condition.\n",
        "Participation Count: The number of times an athlete has participated in the Olympics.\n",
        "Age Group: Athletes are categorized into 'Young', 'Mid-Aged', 'Senior', and 'Veteran' based on their age.\n",
        "Home Advantage: Indicates whether the athlete competed in their home country.\n",
        "Is Team Event: Indicates whether the event is a team event or an individual event.\n",
        "Years Since First Participation: The number of years since the athlete's first participation in the Olympics (previously computed)."
      ],
      "metadata": {
        "id": "CZ7MYhFi9zHo"
      }
    },
    {
      "cell_type": "markdown",
      "source": [],
      "metadata": {
        "id": "OEfDxcYg90oR"
      }
    },
    {
      "cell_type": "markdown",
      "source": [
        "# **4: Model**"
      ],
      "metadata": {
        "id": "UKd1Fu3--Dhs"
      }
    },
    {
      "cell_type": "markdown",
      "source": [
        "**Prepare Data:** Split the data into training and testing sets.\n",
        "Choose a Model: Decide on a machine learning model appropriate for the task.\n",
        "Train the Model: Use the training data to train the chosen model.\n",
        "Evaluate the Model: Test the model's performance on the testing data.\n",
        "Given our objective is to predict medal wins, this is a classification problem. There are several classification models we could consider, such as:\n",
        "\n",
        "Logistic Regression\n",
        "\n",
        "Decision Trees\n",
        "\n",
        "Random Forests\n",
        "\n",
        "Gradient Boosted Trees\n",
        "\n",
        "Neural Networks"
      ],
      "metadata": {
        "id": "bVJPZ5Cc-Gei"
      }
    },
    {
      "cell_type": "markdown",
      "source": [
        "## **Data Preprocessing**\n",
        "\n",
        "\n",
        "**Encoding Categorical Variables:**\n",
        "\n",
        "Convert categorical features into a format that can be provided to ML algorithms to improve predictions.\n",
        "For simplicity, we'll use label encoding for nominal categorical variables. While one-hot encoding is often recommended, it can increase the dimensionality considerably for features with many unique values.\n",
        "Handling Missing Values:\n",
        "\n",
        "Fill any missing values. For simplicity, we can fill numerical features with their median and categorical features with the mode."
      ],
      "metadata": {
        "id": "BYXsQ931XSpG"
      }
    },
    {
      "cell_type": "markdown",
      "source": [
        "Data Preparation:\n",
        "Split the data into features and target variable.\n",
        "Split the data into training and testing sets."
      ],
      "metadata": {
        "id": "TNni4S0qT1Ch"
      }
    },
    {
      "cell_type": "code",
      "source": [
        "from sklearn.preprocessing import LabelEncoder\n",
        "\n",
        "# Label encode categorical columns\n",
        "label_encoders = {}  # we'll store our label encoders here for potential use later\n",
        "\n",
        "for column in olympics_df.select_dtypes(include=['object']).columns:\n",
        "    le = LabelEncoder()\n",
        "    olympics_df[column] = le.fit_transform(olympics_df[column].astype(str))\n",
        "    label_encoders[column] = le\n",
        "\n",
        "# Handle missing values\n",
        "olympics_df.fillna(olympics_df.median(numeric_only=True), inplace=True)\n",
        "\n",
        "# Split the data into features and target\n",
        "X = olympics_df.drop(columns=['Medal'])\n",
        "y = olympics_df['Medal']\n",
        "\n",
        "# Split the data into training and testing sets (80% train, 20% test)\n",
        "X_train, X_test, y_train, y_test = train_test_split(X, y, test_size=0.2, random_state=42)\n"
      ],
      "metadata": {
        "id": "3pYF2mRvXRiW"
      },
      "execution_count": 70,
      "outputs": []
    },
    {
      "cell_type": "markdown",
      "source": [
        "## **Model Training and Evaluation:**"
      ],
      "metadata": {
        "id": "05137G0zWPbM"
      }
    },
    {
      "cell_type": "markdown",
      "source": [
        "**Random Forest**"
      ],
      "metadata": {
        "id": "tSDcNkmD-f-L"
      }
    },
    {
      "cell_type": "code",
      "source": [
        "from sklearn.model_selection import train_test_split\n",
        "\n",
        "# Define features (X) and target variable (y)\n",
        "X = sampled_df.drop(['Medal', 'Name'], axis=1)  # Dropping 'Name' as it's an identifier and not a useful feature for modeling\n",
        "y = sampled_df['Medal']\n",
        "\n",
        "# Convert the categorical 'Age_Group' feature to strings to later encode it\n",
        "X['Age_Group'] = X['Age_Group'].astype(str)\n",
        "\n",
        "# Splitting the data into training and testing sets (80% training, 20% testing)\n",
        "X_train, X_test, y_train, y_test = train_test_split(X, y, test_size=0.2, stratify=y, random_state=42)\n",
        "\n",
        "# Display the shape of training and testing data\n",
        "X_train.shape, X_test.shape, y_train.shape, y_test.shape\n"
      ],
      "metadata": {
        "colab": {
          "base_uri": "https://localhost:8080/"
        },
        "id": "AzowcCbl-o4E",
        "outputId": "fcc29bb9-6d5e-4b35-9a63-0ce4af996a53"
      },
      "execution_count": 56,
      "outputs": [
        {
          "output_type": "execute_result",
          "data": {
            "text/plain": [
              "((11200, 20), (2800, 20), (11200,), (2800,))"
            ]
          },
          "metadata": {},
          "execution_count": 56
        }
      ]
    },
    {
      "cell_type": "markdown",
      "source": [
        "Training features (X_train): 11,200 rows and 18 columns\n",
        "Testing features (X_test): 2,800 rows and 18 columns\n",
        "Training target (y_train): 11,200 values\n",
        "Testing target (y_test): 2,800 values"
      ],
      "metadata": {
        "id": "aYjELuU_-vaz"
      }
    },
    {
      "cell_type": "code",
      "source": [
        "from sklearn.model_selection import train_test_split\n",
        "\n",
        "# Assuming 'Medal' is the target column\n",
        "X = olympics_df.drop(columns=['Medal'])\n",
        "y = olympics_df['Medal']\n",
        "\n",
        "# Split the data into training and testing sets (80% train, 20% test)\n",
        "X_train, X_test, y_train, y_test = train_test_split(X, y, test_size=0.2, random_state=42)\n",
        "\n"
      ],
      "metadata": {
        "id": "JmGwpF7eUq9c"
      },
      "execution_count": 71,
      "outputs": []
    },
    {
      "cell_type": "code",
      "source": [
        "from sklearn.ensemble import RandomForestClassifier\n",
        "from sklearn.metrics import accuracy_score, classification_report\n",
        "\n",
        "# Initialize and train the Random Forest classifier\n",
        "rf_model = RandomForestClassifier(n_estimators=100, random_state=42)\n",
        "rf_model.fit(X_train, y_train)\n",
        "\n",
        "# Predict on the test set\n",
        "y_pred = rf_model.predict(X_test)\n",
        "\n",
        "# Evaluate the model\n",
        "accuracy = accuracy_score(y_test, y_pred)\n",
        "print(f\"Accuracy: {accuracy*100:.2f}%\")\n",
        "print(classification_report(y_test, y_pred))\n",
        "\n"
      ],
      "metadata": {
        "colab": {
          "base_uri": "https://localhost:8080/"
        },
        "id": "-Svc2CkrWfEU",
        "outputId": "18ff62dd-5c7c-48ac-d74f-b346aafc6dab"
      },
      "execution_count": 72,
      "outputs": [
        {
          "output_type": "stream",
          "name": "stdout",
          "text": [
            "Accuracy: 86.50%\n",
            "              precision    recall  f1-score   support\n",
            "\n",
            "           0       0.33      0.12      0.18       651\n",
            "           1       0.50      0.29      0.36       613\n",
            "           2       0.90      0.97      0.93     12125\n",
            "           3       0.26      0.11      0.15       611\n",
            "\n",
            "    accuracy                           0.86     14000\n",
            "   macro avg       0.50      0.37      0.41     14000\n",
            "weighted avg       0.82      0.86      0.84     14000\n",
            "\n"
          ]
        }
      ]
    },
    {
      "cell_type": "markdown",
      "source": [
        "### **Hyperparameter Tuning Random forest:**\n",
        "\n",
        "Use RandomizedSearchCV to optimize the hyperparameters of the Random Forest model."
      ],
      "metadata": {
        "id": "CrHxjL04YNWt"
      }
    },
    {
      "cell_type": "code",
      "source": [
        "from sklearn.model_selection import RandomizedSearchCV\n",
        "\n",
        "# Define the hyperparameters grid\n",
        "param_dist = {\n",
        "    'n_estimators': [50, 100, 150, 200],\n",
        "    'max_depth': [None, 10, 20, 30, 40],\n",
        "    'min_samples_split': [2, 5, 10],\n",
        "    'min_samples_leaf': [1, 2, 4, 6]\n",
        "}\n",
        "\n",
        "# RandomizedSearchCV initialization\n",
        "random_search = RandomizedSearchCV(RandomForestClassifier(random_state=42), param_distributions=param_dist, n_iter=20, cv=3, scoring='accuracy', n_jobs=-1, random_state=42)\n",
        "\n",
        "# Fit the model\n",
        "random_search.fit(X_train, y_train)\n",
        "\n",
        "# Get the best parameters\n",
        "best_params = random_search.best_params_\n",
        "print(f\"Optimized Parameters: {best_params}\")\n"
      ],
      "metadata": {
        "colab": {
          "base_uri": "https://localhost:8080/"
        },
        "id": "yAnepOqVYWI-",
        "outputId": "bdbafe00-c395-40d7-ffef-c9e0c250cdcd"
      },
      "execution_count": 120,
      "outputs": [
        {
          "output_type": "stream",
          "name": "stdout",
          "text": [
            "Optimized Parameters: {'n_estimators': 150, 'min_samples_split': 5, 'min_samples_leaf': 1, 'max_depth': None}\n"
          ]
        }
      ]
    },
    {
      "cell_type": "code",
      "source": [
        "from sklearn.model_selection import RandomizedSearchCV\n",
        "\n",
        "# Reduced hyperparameters grid\n",
        "param_dist = {\n",
        "    'n_estimators': [50, 100],\n",
        "    'max_depth': [None, 10, 20],\n",
        "    'min_samples_split': [2, 5],\n",
        "    'min_samples_leaf': [1, 2]\n",
        "}\n",
        "\n",
        "# RandomizedSearchCV with fewer iterations\n",
        "random_search = RandomizedSearchCV(RandomForestClassifier(random_state=42), param_distributions=param_dist, n_iter=10, cv=3, scoring='accuracy', n_jobs=-1, random_state=42)\n",
        "\n",
        "# Fit the model\n",
        "random_search.fit(X_train, y_train)\n",
        "\n",
        "# Get the best parameters\n",
        "best_params = random_search.best_params_\n",
        "print(f\"Optimized Parameters: {best_params}\")\n"
      ],
      "metadata": {
        "colab": {
          "base_uri": "https://localhost:8080/"
        },
        "id": "XCIE4k5TZqnJ",
        "outputId": "3b0217c3-aadb-4e23-a893-49fcbe3ee874"
      },
      "execution_count": 74,
      "outputs": [
        {
          "output_type": "stream",
          "name": "stdout",
          "text": [
            "Optimized Parameters: {'n_estimators': 100, 'min_samples_split': 2, 'min_samples_leaf': 2, 'max_depth': None}\n"
          ]
        }
      ]
    },
    {
      "cell_type": "markdown",
      "source": [
        "## **Observations after Random Forest training:**\n",
        "\n",
        "\n",
        "\n",
        "Assess the initial accuracy of the model on the test set.\n",
        "Evaluate the classification report to understand the model's performance for each medal category.\n",
        "\n",
        "\n",
        "**Observations after hyperparameter tuning:**\n",
        "\n",
        "\n",
        "Compare the accuracy of the tuned model with the initial model.\n",
        "Check if there's a significant improvement in the model's performance on the test set.\n",
        "Evaluate the classification report of the tuned model to see if it performs better in predicting specific medal categories."
      ],
      "metadata": {
        "id": "J5mT_ZywY4eY"
      }
    },
    {
      "cell_type": "code",
      "source": [
        "# Initial Random Forest Model Training\n",
        "rf_model = RandomForestClassifier(n_estimators=100, random_state=42)\n",
        "rf_model.fit(X_train, y_train)\n",
        "y_pred_initial = rf_model.predict(X_test)\n",
        "initial_accuracy = accuracy_score(y_test, y_pred_initial)\n",
        "print(f\"Initial Accuracy: {initial_accuracy*100:.2f}%\")\n",
        "print(classification_report(y_test, y_pred_initial))\n",
        "\n",
        "# Using the best parameters from RandomizedSearchCV\n",
        "best_params = random_search.best_params_\n",
        "rf_tuned = RandomForestClassifier(**best_params, random_state=42)\n",
        "rf_tuned.fit(X_train, y_train)\n",
        "y_pred_tuned = rf_tuned.predict(X_test)\n",
        "tuned_accuracy = accuracy_score(y_test, y_pred_tuned)\n",
        "print(f\"Tuned Accuracy: {tuned_accuracy*100:.2f}%\")\n",
        "print(classification_report(y_test, y_pred_tuned))\n"
      ],
      "metadata": {
        "colab": {
          "base_uri": "https://localhost:8080/"
        },
        "id": "EsJj8dPxZa6m",
        "outputId": "9c716877-927e-49d7-db19-7a307835fed0"
      },
      "execution_count": 75,
      "outputs": [
        {
          "output_type": "stream",
          "name": "stdout",
          "text": [
            "Initial Accuracy: 86.50%\n",
            "              precision    recall  f1-score   support\n",
            "\n",
            "           0       0.33      0.12      0.18       651\n",
            "           1       0.50      0.29      0.36       613\n",
            "           2       0.90      0.97      0.93     12125\n",
            "           3       0.26      0.11      0.15       611\n",
            "\n",
            "    accuracy                           0.86     14000\n",
            "   macro avg       0.50      0.37      0.41     14000\n",
            "weighted avg       0.82      0.86      0.84     14000\n",
            "\n",
            "Tuned Accuracy: 87.64%\n",
            "              precision    recall  f1-score   support\n",
            "\n",
            "           0       0.56      0.05      0.09       651\n",
            "           1       0.62      0.22      0.32       613\n",
            "           2       0.88      0.99      0.94     12125\n",
            "           3       0.45      0.07      0.12       611\n",
            "\n",
            "    accuracy                           0.88     14000\n",
            "   macro avg       0.63      0.33      0.37     14000\n",
            "weighted avg       0.84      0.88      0.83     14000\n",
            "\n"
          ]
        }
      ]
    },
    {
      "cell_type": "markdown",
      "source": [
        "### **Visualizing Random Search**"
      ],
      "metadata": {
        "id": "6YErB59-a6yM"
      }
    },
    {
      "cell_type": "code",
      "source": [
        "import matplotlib.pyplot as plt\n",
        "import seaborn as sns\n",
        "from sklearn.metrics import confusion_matrix\n",
        "\n",
        "# Predict using the best model from RandomizedSearchCV\n",
        "y_pred_best = random_search.best_estimator_.predict(X_test)\n",
        "\n",
        "# 1. Confusion Matrix\n",
        "cm = confusion_matrix(y_test, y_pred_best)\n",
        "plt.figure(figsize=(8,6))\n",
        "sns.heatmap(cm, annot=True, fmt='g', cmap='Blues', xticklabels=random_search.classes_, yticklabels=random_search.classes_)\n",
        "plt.xlabel('Predicted')\n",
        "plt.ylabel('True')\n",
        "plt.title('Confusion Matrix')\n",
        "plt.show()\n",
        "\n",
        "# 2. Feature Importance Plot\n",
        "feature_importances = random_search.best_estimator_.feature_importances_\n",
        "plt.figure(figsize=(12,8))\n",
        "sns.barplot(x=feature_importances, y=X.columns)\n",
        "plt.title('Feature Importances')\n",
        "plt.show()\n"
      ],
      "metadata": {
        "colab": {
          "base_uri": "https://localhost:8080/",
          "height": 1000
        },
        "id": "eq_ir3h8bJIe",
        "outputId": "ee66a473-c0b3-4ba1-82f4-1057fc5e56eb"
      },
      "execution_count": 76,
      "outputs": [
        {
          "output_type": "display_data",
          "data": {
            "text/plain": [
              "<Figure size 800x600 with 2 Axes>"
            ],
            "image/png": "[encoded data removed]"
          },
          "metadata": {}
        },
        {
          "output_type": "display_data",
          "data": {
            "text/plain": [
              "<Figure size 1200x800 with 1 Axes>"
            ],
            "image/png": "[encoded data removed]"
          },
          "metadata": {}
        }
      ]
    },
    {
      "cell_type": "markdown",
      "source": [
        "A Confusion Matrix to show the true positives, true negatives, false positives, and false negatives.\n",
        "A Feature Importance Plot to show which features are most influential in making predictions."
      ],
      "metadata": {
        "id": "vFxxqD3Ebf6y"
      }
    },
    {
      "cell_type": "markdown",
      "source": [
        "The confusion matrix provides a summary of the correct and incorrect predictions for a classification problem. The main diagonal (from top-left to bottom-right) represents correct predictions, while the other cells indicate errors.\n",
        "\n",
        "In the context of our dataset, where the target is predicting medals:\n",
        "\n",
        "True Positives (TP): The number in the top-left cell represents the number of correct predictions for the first class (e.g., 'Gold' medal).\n",
        "True Negatives (TN): The number in the bottom-right cell indicates the number of correct predictions for the other classes (e.g., 'Silver' and 'Bronze').\n",
        "False Positives (FP): The numbers in the off-diagonal columns of the top row represent the instances where the model predicted the first class but was incorrect.\n",
        "False Negatives (FN): The numbers in the off-diagonal columns of the bottom row represent the instances where the model predicted other classes but the true class was the first one.\n",
        "The main takeaways from the confusion matrix are:\n",
        "\n",
        "The higher the diagonal values of the confusion matrix, the better, indicating many correct predictions.\n",
        "The values outside the diagonal are the errors. If these values are high, it suggests the model is often confused between those classes.\n",
        "2. Feature Importance Plot:\n",
        "The feature importance plot provides a ranking of the significance of the different input features in predicting the target variable.\n",
        "\n",
        "Features at the top of the plot are more important in the decision-making of the model than features at the bottom.\n",
        "A higher bar indicates that the corresponding feature has a more significant influence on the model's decisions."
      ],
      "metadata": {
        "id": "ca9jWjKSb3om"
      }
    },
    {
      "cell_type": "markdown",
      "source": [
        "**Model Comparison**"
      ],
      "metadata": {
        "id": "Gj65SP8Gb5M7"
      }
    },
    {
      "cell_type": "markdown",
      "source": [
        "**Logistic Regression**\n",
        "\n",
        "\n",
        "**Train the Model:**"
      ],
      "metadata": {
        "id": "oyxhGuG6cobO"
      }
    },
    {
      "cell_type": "code",
      "source": [
        "from sklearn.linear_model import LogisticRegression\n",
        "from sklearn.metrics import accuracy_score\n",
        "\n",
        "# Train\n",
        "log_reg = LogisticRegression(max_iter=10000, random_state=42)\n",
        "log_reg.fit(X_train, y_train)\n",
        "\n",
        "# Predict & Evaluate\n",
        "y_pred_lr = log_reg.predict(X_test)\n",
        "accuracy_lr = accuracy_score(y_test, y_pred_lr)\n",
        "print(f\"Logistic Regression Accuracy: {accuracy_lr*100:.2f}%\")\n"
      ],
      "metadata": {
        "colab": {
          "base_uri": "https://localhost:8080/"
        },
        "id": "7_TgJyxLczBQ",
        "outputId": "2beef3d2-56a5-4516-b16e-097f0d6cbdb6"
      },
      "execution_count": 77,
      "outputs": [
        {
          "output_type": "stream",
          "name": "stdout",
          "text": [
            "Logistic Regression Accuracy: 86.61%\n"
          ]
        }
      ]
    },
    {
      "cell_type": "markdown",
      "source": [
        "**Decision Trees**\n",
        "\n",
        "**Train the Model**"
      ],
      "metadata": {
        "id": "wxQykvSmc6Xu"
      }
    },
    {
      "cell_type": "code",
      "source": [
        "from sklearn.tree import DecisionTreeClassifier\n",
        "\n",
        "# Train\n",
        "dt = DecisionTreeClassifier(random_state=42)\n",
        "dt.fit(X_train, y_train)\n",
        "\n",
        "# Predict & Evaluate\n",
        "y_pred_dt = dt.predict(X_test)\n",
        "accuracy_dt = accuracy_score(y_test, y_pred_dt)\n",
        "print(f\"Decision Trees Accuracy: {accuracy_dt*100:.2f}%\")\n"
      ],
      "metadata": {
        "colab": {
          "base_uri": "https://localhost:8080/"
        },
        "id": "5PuYmFNwdDdx",
        "outputId": "15db853a-603e-43ed-e859-24f0a44f45ec"
      },
      "execution_count": 78,
      "outputs": [
        {
          "output_type": "stream",
          "name": "stdout",
          "text": [
            "Decision Trees Accuracy: 81.07%\n"
          ]
        }
      ]
    },
    {
      "cell_type": "markdown",
      "source": [
        "**Gradient Boosted Trees**\n",
        "\n",
        "\n",
        "**Train the Model**"
      ],
      "metadata": {
        "id": "VgYq_uHPdJgj"
      }
    },
    {
      "cell_type": "code",
      "source": [
        "from sklearn.ensemble import GradientBoostingClassifier\n",
        "\n",
        "# Train\n",
        "gbt = GradientBoostingClassifier(random_state=42)\n",
        "gbt.fit(X_train, y_train)\n",
        "\n",
        "# Predict & Evaluate\n",
        "y_pred_gbt = gbt.predict(X_test)\n",
        "accuracy_gbt = accuracy_score(y_test, y_pred_gbt)\n",
        "print(f\"Gradient Boosted Trees Accuracy: {accuracy_gbt*100:.2f}%\")\n"
      ],
      "metadata": {
        "colab": {
          "base_uri": "https://localhost:8080/"
        },
        "id": "fqXOQGP8dP04",
        "outputId": "9178facd-5fa9-4b75-b0bd-d1066fdbc336"
      },
      "execution_count": 79,
      "outputs": [
        {
          "output_type": "stream",
          "name": "stdout",
          "text": [
            "Gradient Boosted Trees Accuracy: 86.71%\n"
          ]
        }
      ]
    },
    {
      "cell_type": "markdown",
      "source": [
        "**Neural Networks**\n",
        "\n",
        "\n",
        "**Train the Model:**"
      ],
      "metadata": {
        "id": "2HMg8VDhdcnN"
      }
    },
    {
      "cell_type": "code",
      "source": [
        "from sklearn.neural_network import MLPClassifier\n",
        "\n",
        "# Train\n",
        "nn = MLPClassifier(random_state=42, max_iter=10000)\n",
        "nn.fit(X_train, y_train)\n",
        "\n",
        "# Predict & Evaluate\n",
        "y_pred_nn = nn.predict(X_test)\n",
        "accuracy_nn = accuracy_score(y_test, y_pred_nn)\n",
        "print(f\"Neural Networks Accuracy: {accuracy_nn*100:.2f}%\")\n"
      ],
      "metadata": {
        "colab": {
          "base_uri": "https://localhost:8080/"
        },
        "id": "hOowcw-Zdi6P",
        "outputId": "4458cbe6-5ce1-4bce-95e2-f0d02a113894"
      },
      "execution_count": 80,
      "outputs": [
        {
          "output_type": "stream",
          "name": "stdout",
          "text": [
            "Neural Networks Accuracy: 72.91%\n"
          ]
        }
      ]
    },
    {
      "cell_type": "markdown",
      "source": [
        "### **Hyperparameter Tuning**"
      ],
      "metadata": {
        "id": "oO01R73Rd5oG"
      }
    },
    {
      "cell_type": "markdown",
      "source": [
        "**Logistic Regression**"
      ],
      "metadata": {
        "id": "FkgeMH3pfGcg"
      }
    },
    {
      "cell_type": "code",
      "source": [
        "from sklearn.model_selection import GridSearchCV\n",
        "\n",
        "# Hyperparameters grid\n",
        "param_grid_lr = {'C': [0.001, 0.01, 0.1, 1, 10, 100]}\n",
        "\n",
        "# Grid search for Logistic Regression\n",
        "grid_search_lr = GridSearchCV(LogisticRegression(max_iter=10000, random_state=42), param_grid_lr, cv=3, n_jobs=-1)\n",
        "grid_search_lr.fit(X_train, y_train)\n",
        "\n",
        "best_params_lr = grid_search_lr.best_params_\n",
        "print(f\"Optimized Parameters for Logistic Regression: {best_params_lr}\")\n"
      ],
      "metadata": {
        "colab": {
          "base_uri": "https://localhost:8080/"
        },
        "id": "ugbibxiJeA4Z",
        "outputId": "94c759e7-cf44-4366-9016-b8bbe06aa422"
      },
      "execution_count": 81,
      "outputs": [
        {
          "output_type": "stream",
          "name": "stdout",
          "text": [
            "Optimized Parameters for Logistic Regression: {'C': 0.001}\n"
          ]
        }
      ]
    },
    {
      "cell_type": "code",
      "source": [
        "import pandas as pd\n",
        "from sklearn.compose import ColumnTransformer\n",
        "from sklearn.pipeline import Pipeline\n",
        "from sklearn.impute import SimpleImputer\n",
        "from sklearn.preprocessing import StandardScaler, OneHotEncoder\n",
        "from sklearn.model_selection import train_test_split, RandomizedSearchCV\n",
        "from sklearn.linear_model import LogisticRegression\n",
        "\n",
        "# Load the dataset\n",
        "olympics_df = pd.read_csv('dataset_olympics.csv')\n",
        "\n",
        "# Define features and target\n",
        "X = olympics_df.drop(columns=['Medal'])\n",
        "y = olympics_df['Medal']\n",
        "\n",
        "# List of numeric and categorical features\n",
        "numeric_features = ['Age', 'Height', 'Weight', 'Year']\n",
        "categorical_features = ['Sex', 'Team', 'NOC', 'Games', 'Season', 'City', 'Sport', 'Event']\n",
        "\n",
        "# Create transformers\n",
        "numeric_transformer = Pipeline(steps=[\n",
        "    ('imputer', SimpleImputer(strategy='median')),\n",
        "    ('scaler', StandardScaler())\n",
        "])\n",
        "\n",
        "categorical_transformer = Pipeline(steps=[\n",
        "    ('imputer', SimpleImputer(strategy='constant', fill_value='missing')),\n",
        "    ('onehot', OneHotEncoder(handle_unknown='ignore'))\n",
        "])\n",
        "\n",
        "# Assemble column transformer\n",
        "preprocessor = ColumnTransformer(\n",
        "    transformers=[\n",
        "        ('num', numeric_transformer, numeric_features),\n",
        "        ('cat', categorical_transformer, categorical_features)\n",
        "    ]\n",
        ")\n",
        "\n",
        "X_processed = preprocessor.fit_transform(X)"
      ],
      "metadata": {
        "id": "D7Ce7eTk5UzA"
      },
      "execution_count": 118,
      "outputs": []
    },
    {
      "cell_type": "code",
      "source": [
        "from sklearn.model_selection import train_test_split\n",
        "from sklearn.pipeline import Pipeline\n",
        "from sklearn.impute import SimpleImputer\n",
        "from sklearn.preprocessing import StandardScaler, OneHotEncoder\n",
        "from sklearn.compose import ColumnTransformer\n",
        "from sklearn.linear_model import LogisticRegression\n",
        "from sklearn.model_selection import RandomizedSearchCV\n",
        "\n",
        "# Define the transformers for the preprocessor\n",
        "numeric_features_adjusted = ['Age', 'Height', 'Weight', 'Year']\n",
        "categorical_features_adjusted = ['Sex', 'Team', 'NOC', 'Games', 'Season', 'City', 'Sport', 'Event']\n",
        "\n",
        "numeric_transformer_adjusted = Pipeline(steps=[\n",
        "    ('imputer', SimpleImputer(strategy='median')),\n",
        "    ('scaler', StandardScaler())\n",
        "])\n",
        "\n",
        "categorical_transformer = Pipeline(steps=[\n",
        "    ('imputer', SimpleImputer(strategy='constant', fill_value='missing')),\n",
        "    ('onehot', OneHotEncoder(handle_unknown='ignore'))\n",
        "])\n",
        "\n",
        "# Define the column transformer with the adjusted transformers\n",
        "transformers_adjusted_v2 = [\n",
        "    ('num', numeric_transformer_adjusted, numeric_features_adjusted),\n",
        "    ('cat', categorical_transformer, categorical_features_adjusted)\n",
        "]\n",
        "\n",
        "preprocessor_adjusted_v2 = ColumnTransformer(transformers_adjusted_v2)\n",
        "\n",
        "# Remove rows where 'Medal' is NaN\n",
        "olympics_df_cleaned = olympics_df.dropna(subset=['Medal'])\n",
        "\n",
        "# Define features and target\n",
        "X = olympics_df_cleaned.drop(columns=['Medal'])\n",
        "y = olympics_df_cleaned['Medal']\n",
        "\n",
        "# Preprocess the features\n",
        "X_processed = preprocessor_adjusted_v2.fit_transform(X)\n",
        "\n",
        "# Create training and test sets\n",
        "X_train, X_test, y_train, y_test = train_test_split(X_processed, y, test_size=0.2, random_state=42)\n",
        "\n",
        "# Define hyperparameters for RandomizedSearchCV\n",
        "param_dist_lr = {\n",
        "    'C': [0.001, 0.01, 0.1, 1, 10, 100],\n",
        "    'penalty': ['l1', 'l2'],\n",
        "    'solver': ['saga']\n",
        "}\n",
        "\n",
        "random_search_lr = RandomizedSearchCV(LogisticRegression(max_iter=5000, random_state=42), param_distributions=param_dist_lr, n_iter=10, cv=3, n_jobs=-1, random_state=42)\n",
        "\n",
        "# Fit the model\n",
        "random_search_lr.fit(X_train, y_train)\n",
        "\n",
        "# Get the best parameters\n",
        "best_params_lr = random_search_lr.best_params_\n",
        "best_params_lr\n"
      ],
      "metadata": {
        "colab": {
          "base_uri": "https://localhost:8080/"
        },
        "id": "JnMWgsfP5jLv",
        "outputId": "14856e15-443c-4c6d-9506-e3094a43455e"
      },
      "execution_count": 119,
      "outputs": [
        {
          "output_type": "execute_result",
          "data": {
            "text/plain": [
              "{'solver': 'saga', 'penalty': 'l2', 'C': 10}"
            ]
          },
          "metadata": {},
          "execution_count": 119
        }
      ]
    },
    {
      "cell_type": "code",
      "source": [
        "\n"
      ],
      "metadata": {
        "id": "Zl-B9suwuQ5G"
      },
      "execution_count": null,
      "outputs": []
    },
    {
      "cell_type": "markdown",
      "source": [
        "### **Decision Trees**"
      ],
      "metadata": {
        "id": "nHq7wN3xfRIq"
      }
    },
    {
      "cell_type": "code",
      "source": [
        "# Hyperparameters grid\n",
        "param_grid_dt = {'max_depth': [None, 10, 20, 30], 'min_samples_split': [2, 5, 10]}\n",
        "\n",
        "# Grid search for Decision Trees\n",
        "grid_search_dt = GridSearchCV(DecisionTreeClassifier(random_state=42), param_grid_dt, cv=3, n_jobs=-1)\n",
        "grid_search_dt.fit(X_train, y_train)\n",
        "\n",
        "best_params_dt = grid_search_dt.best_params_\n",
        "print(f\"Optimized Parameters for Decision Trees: {best_params_dt}\")\n"
      ],
      "metadata": {
        "colab": {
          "base_uri": "https://localhost:8080/"
        },
        "id": "GbQho4hYeh35",
        "outputId": "ff674f29-820e-45be-abe5-a0198390b32c"
      },
      "execution_count": 84,
      "outputs": [
        {
          "output_type": "stream",
          "name": "stdout",
          "text": [
            "Optimized Parameters for Decision Trees: {'max_depth': 10, 'min_samples_split': 10}\n"
          ]
        }
      ]
    },
    {
      "cell_type": "markdown",
      "source": [
        "### **Gradient Boosted Trees**"
      ],
      "metadata": {
        "id": "xI6_nsxUfe_D"
      }
    },
    {
      "cell_type": "code",
      "source": [
        "# Reduced hyperparameters distribution\n",
        "param_dist_gbt_reduced = {\n",
        "    'n_estimators': [100],\n",
        "    'max_depth': [5]\n",
        "}\n",
        "\n",
        "# Randomized search with reduced iterations\n",
        "random_search_gbt_reduced = RandomizedSearchCV(GradientBoostingClassifier(random_state=42), param_distributions=param_dist_gbt_reduced, n_iter=2, cv=3, n_jobs=-1, random_state=42)\n",
        "random_search_gbt_reduced.fit(X_train.sample(frac=0.5, random_state=42), y_train.sample(frac=0.5, random_state=42))\n",
        "\n",
        "best_params_gbt_reduced = random_search_gbt_reduced.best_params_\n",
        "print(f\"Optimized Parameters for Gradient Boosted Trees: {best_params_gbt_reduced}\")\n",
        "\n",
        "\n"
      ],
      "metadata": {
        "colab": {
          "base_uri": "https://localhost:8080/"
        },
        "id": "R7USw74RenfW",
        "outputId": "0f87676b-4891-45e2-9c49-d1235462d83a"
      },
      "execution_count": 87,
      "outputs": [
        {
          "output_type": "stream",
          "name": "stderr",
          "text": [
            "/usr/local/lib/python3.10/dist-packages/sklearn/model_selection/_search.py:305: UserWarning: The total space of parameters 1 is smaller than n_iter=2. Running 1 iterations. For exhaustive searches, use GridSearchCV.\n",
            "  warnings.warn(\n"
          ]
        },
        {
          "output_type": "stream",
          "name": "stdout",
          "text": [
            "Optimized Parameters for Gradient Boosted Trees: {'n_estimators': 100, 'max_depth': 5}\n"
          ]
        }
      ]
    },
    {
      "cell_type": "code",
      "source": [
        "olympics_df.columns\n"
      ],
      "metadata": {
        "colab": {
          "base_uri": "https://localhost:8080/"
        },
        "id": "0h1O4wfV1KVb",
        "outputId": "4ca13c59-6e17-49c9-dda7-ca05eb2c3a0a"
      },
      "execution_count": 110,
      "outputs": [
        {
          "output_type": "execute_result",
          "data": {
            "text/plain": [
              "Index(['ID', 'Name', 'Sex', 'Age', 'Height', 'Weight', 'Team', 'NOC', 'Games',\n",
              "       'Year', 'Season', 'City', 'Sport', 'Event', 'Medal'],\n",
              "      dtype='object')"
            ]
          },
          "metadata": {},
          "execution_count": 110
        }
      ]
    },
    {
      "cell_type": "code",
      "source": [
        "\n"
      ],
      "metadata": {
        "id": "p4lIEnL_1bCL"
      },
      "execution_count": 114,
      "outputs": []
    },
    {
      "cell_type": "code",
      "source": [
        "# Reduced hyperparameters distribution\n",
        "param_dist_nn_reduced = {\n",
        "    'alpha': [0.001],\n",
        "    'hidden_layer_sizes': [(100,)]\n",
        "}\n",
        "\n",
        "# Randomized search with reduced iterations\n",
        "random_search_nn_reduced = RandomizedSearchCV(MLPClassifier(max_iter=5000, random_state=42), param_distributions=param_dist_nn_reduced, n_iter=2, cv=3, n_jobs=-1, random_state=42)\n",
        "random_search_nn_reduced.fit(X_train.sample(frac=0.5, random_state=42), y_train.sample(frac=0.5, random_state=42))\n",
        "\n",
        "best_params_nn_reduced = random_search_nn_reduced.best_params_\n",
        "print(f\"Optimized Parameters for Neural Networks: {best_params_nn_reduced}\")\n",
        "\n",
        "\n"
      ],
      "metadata": {
        "colab": {
          "base_uri": "https://localhost:8080/"
        },
        "id": "rRp19iANe1rB",
        "outputId": "43c44172-1bd0-4ee6-d6e8-0464a0cd498d"
      },
      "execution_count": 88,
      "outputs": [
        {
          "output_type": "stream",
          "name": "stderr",
          "text": [
            "/usr/local/lib/python3.10/dist-packages/sklearn/model_selection/_search.py:305: UserWarning: The total space of parameters 1 is smaller than n_iter=2. Running 1 iterations. For exhaustive searches, use GridSearchCV.\n",
            "  warnings.warn(\n"
          ]
        },
        {
          "output_type": "stream",
          "name": "stdout",
          "text": [
            "Optimized Parameters for Neural Networks: {'hidden_layer_sizes': (100,), 'alpha': 0.001}\n"
          ]
        }
      ]
    },
    {
      "cell_type": "markdown",
      "source": [
        "**Hyperparameter tuning for Decision Trees, Gradient Boosted Trees, and Neural Networks on the reduced dataset for faster execution:**"
      ],
      "metadata": {
        "id": "DHRiAqFz9Qp3"
      }
    },
    {
      "cell_type": "code",
      "source": [
        "from sklearn.pipeline import Pipeline\n",
        "from sklearn.impute import SimpleImputer\n",
        "from sklearn.preprocessing import StandardScaler, OneHotEncoder\n",
        "from sklearn.compose import ColumnTransformer\n",
        "\n",
        "from sklearn.tree import DecisionTreeClassifier\n",
        "from sklearn.ensemble import GradientBoostingClassifier\n",
        "from sklearn.neural_network import MLPClassifier\n",
        "from sklearn.model_selection import RandomizedSearchCV, train_test_split\n",
        "\n",
        "# Define the transformers for the preprocessor\n",
        "numeric_transformer_speedup = Pipeline(steps=[\n",
        "    ('imputer', SimpleImputer(strategy='median')),\n",
        "    ('scaler', StandardScaler())\n",
        "])\n",
        "\n",
        "categorical_transformer_speedup = Pipeline(steps=[\n",
        "    ('imputer', SimpleImputer(strategy='constant', fill_value='missing')),\n",
        "    ('onehot', OneHotEncoder(handle_unknown='ignore'))\n",
        "])\n",
        "\n",
        "transformers_speedup = [\n",
        "    ('num', numeric_transformer_speedup, numeric_features_adjusted),\n",
        "    ('cat', categorical_transformer_speedup, categorical_features_adjusted)\n",
        "]\n",
        "\n",
        "preprocessor_speedup = ColumnTransformer(transformers_speedup)\n",
        "\n",
        "# Preprocess the data\n",
        "X_processed_speedup = preprocessor_speedup.fit_transform(X)\n",
        "\n",
        "# Taking a smaller sample of the dataset for faster hyperparameter tuning\n",
        "sample_frac = 0.1\n",
        "X_speedup, _, y_speedup, _ = train_test_split(X_processed_speedup, y, train_size=sample_frac, random_state=42)\n",
        "\n",
        "# Convert the target column to string to ensure consistent data types\n",
        "y_speedup = y_speedup.astype(str)\n",
        "\n",
        "# Hyperparameter tuning for Decision Trees\n",
        "param_dist_dt = {\n",
        "    'max_depth': [None, 10, 20, 30],\n",
        "    'min_samples_split': [2, 5, 10]\n",
        "}\n",
        "random_search_dt = RandomizedSearchCV(DecisionTreeClassifier(random_state=42), param_distributions=param_dist_dt, n_iter=10, cv=3, n_jobs=-1, random_state=42)\n",
        "random_search_dt.fit(X_speedup, y_speedup)\n",
        "\n",
        "# Hyperparameter tuning for Gradient Boosted Trees\n",
        "param_dist_gbt = {\n",
        "    'n_estimators': [50, 100],\n",
        "    'max_depth': [3, 5],\n",
        "    'learning_rate': [0.01, 0.1]\n",
        "}\n",
        "random_search_gbt = RandomizedSearchCV(GradientBoostingClassifier(random_state=42), param_distributions=param_dist_gbt, n_iter=10, cv=3, n_jobs=-1, random_state=42)\n",
        "random_search_gbt.fit(X_speedup, y_speedup)\n",
        "\n",
        "# Hyperparameter tuning for Neural Networks\n",
        "param_dist_nn = {\n",
        "    'alpha': [0.001, 0.01, 0.1],\n",
        "    'hidden_layer_sizes': [(100,), (50, 50)]\n",
        "}\n",
        "random_search_nn = RandomizedSearchCV(MLPClassifier(max_iter=5000, random_state=42), param_distributions=param_dist_nn, n_iter=10, cv=3, n_jobs=-1, random_state=42)\n",
        "random_search_nn.fit(X_speedup, y_speedup)\n",
        "\n",
        "# Extract the best parameters\n",
        "best_params_dt = random_search_dt.best_params_\n",
        "best_params_gbt = random_search_gbt.best_params_\n",
        "best_params_nn = random_search_nn.best_params_\n",
        "\n",
        "best_params_dt, best_params_gbt, best_params_nn\n"
      ],
      "metadata": {
        "colab": {
          "base_uri": "https://localhost:8080/"
        },
        "id": "EYJwvt8h9Tbl",
        "outputId": "5ca33b13-7a52-4fb6-b37a-5d0b749e0712"
      },
      "execution_count": 124,
      "outputs": [
        {
          "output_type": "stream",
          "name": "stderr",
          "text": [
            "/usr/local/lib/python3.10/dist-packages/sklearn/model_selection/_search.py:305: UserWarning: The total space of parameters 8 is smaller than n_iter=10. Running 8 iterations. For exhaustive searches, use GridSearchCV.\n",
            "  warnings.warn(\n",
            "/usr/local/lib/python3.10/dist-packages/sklearn/model_selection/_search.py:305: UserWarning: The total space of parameters 6 is smaller than n_iter=10. Running 6 iterations. For exhaustive searches, use GridSearchCV.\n",
            "  warnings.warn(\n"
          ]
        },
        {
          "output_type": "execute_result",
          "data": {
            "text/plain": [
              "({'min_samples_split': 5, 'max_depth': 10},\n",
              " {'n_estimators': 100, 'max_depth': 5, 'learning_rate': 0.01},\n",
              " {'hidden_layer_sizes': (100,), 'alpha': 0.1})"
            ]
          },
          "metadata": {},
          "execution_count": 124
        }
      ]
    },
    {
      "cell_type": "markdown",
      "source": [
        "**Calculate Performance Metrics:**"
      ],
      "metadata": {
        "id": "umExA3BggDaa"
      }
    },
    {
      "cell_type": "code",
      "source": [
        "from sklearn.ensemble import RandomForestClassifier\n",
        "from sklearn.tree import DecisionTreeClassifier\n",
        "from sklearn.ensemble import GradientBoostingClassifier\n",
        "from sklearn.linear_model import LogisticRegression\n",
        "from sklearn.neural_network import MLPClassifier\n",
        "\n",
        "# Best parameters from hyperparameter tuning\n",
        "best_params_rf = {'n_estimators': 100, 'min_samples_split': 2, 'min_samples_leaf': 2, 'max_depth': None}\n",
        "best_params_lr = {'solver': 'saga', 'penalty': 'l2', 'C': 10}\n",
        "\n",
        "# Initialize models with best parameters\n",
        "rf_best = RandomForestClassifier(**best_params_rf, random_state=42)\n",
        "dt_best = DecisionTreeClassifier(**best_params_dt, random_state=42)\n",
        "gbt_best = GradientBoostingClassifier(**best_params_gbt, random_state=42)\n",
        "log_reg_best = LogisticRegression(**best_params_lr, max_iter=5000, random_state=42)\n",
        "nn_best = MLPClassifier(**best_params_nn, random_state=42)\n",
        "\n",
        "# Train the models\n",
        "rf_best.fit(X_train, y_train)\n",
        "dt_best.fit(X_train, y_train)\n",
        "gbt_best.fit(X_train, y_train)\n",
        "log_reg_best.fit(X_train, y_train)\n",
        "nn_best.fit(X_train, y_train)\n"
      ],
      "metadata": {
        "colab": {
          "base_uri": "https://localhost:8080/",
          "height": 75
        },
        "id": "deuSYtrXHmiB",
        "outputId": "b9d461c1-b6e8-4444-e3ca-7d4270b9f1a7"
      },
      "execution_count": 127,
      "outputs": [
        {
          "output_type": "execute_result",
          "data": {
            "text/plain": [
              "MLPClassifier(alpha=0.1, random_state=42)"
            ],
            "text/html": [
              "<style>#sk-container-id-1 {color: black;background-color: white;}#sk-container-id-1 pre{padding: 0;}#sk-container-id-1 div.sk-toggleable {background-color: white;}#sk-container-id-1 label.sk-toggleable__label {cursor: pointer;display: block;width: 100%;margin-bottom: 0;padding: 0.3em;box-sizing: border-box;text-align: center;}#sk-container-id-1 label.sk-toggleable__label-arrow:before {content: \"▸\";float: left;margin-right: 0.25em;color: #696969;}#sk-container-id-1 label.sk-toggleable__label-arrow:hover:before {color: black;}#sk-container-id-1 div.sk-estimator:hover label.sk-toggleable__label-arrow:before {color: black;}#sk-container-id-1 div.sk-toggleable__content {max-height: 0;max-width: 0;overflow: hidden;text-align: left;background-color: #f0f8ff;}#sk-container-id-1 div.sk-toggleable__content pre {margin: 0.2em;color: black;border-radius: 0.25em;background-color: #f0f8ff;}#sk-container-id-1 input.sk-toggleable__control:checked~div.sk-toggleable__content {max-height: 200px;max-width: 100%;overflow: auto;}#sk-container-id-1 input.sk-toggleable__control:checked~label.sk-toggleable__label-arrow:before {content: \"▾\";}#sk-container-id-1 div.sk-estimator input.sk-toggleable__control:checked~label.sk-toggleable__label {background-color: #d4ebff;}#sk-container-id-1 div.sk-label input.sk-toggleable__control:checked~label.sk-toggleable__label {background-color: #d4ebff;}#sk-container-id-1 input.sk-hidden--visually {border: 0;clip: rect(1px 1px 1px 1px);clip: rect(1px, 1px, 1px, 1px);height: 1px;margin: -1px;overflow: hidden;padding: 0;position: absolute;width: 1px;}#sk-container-id-1 div.sk-estimator {font-family: monospace;background-color: #f0f8ff;border: 1px dotted black;border-radius: 0.25em;box-sizing: border-box;margin-bottom: 0.5em;}#sk-container-id-1 div.sk-estimator:hover {background-color: #d4ebff;}#sk-container-id-1 div.sk-parallel-item::after {content: \"\";width: 100%;border-bottom: 1px solid gray;flex-grow: 1;}#sk-container-id-1 div.sk-label:hover label.sk-toggleable__label {background-color: #d4ebff;}#sk-container-id-1 div.sk-serial::before {content: \"\";position: absolute;border-left: 1px solid gray;box-sizing: border-box;top: 0;bottom: 0;left: 50%;z-index: 0;}#sk-container-id-1 div.sk-serial {display: flex;flex-direction: column;align-items: center;background-color: white;padding-right: 0.2em;padding-left: 0.2em;position: relative;}#sk-container-id-1 div.sk-item {position: relative;z-index: 1;}#sk-container-id-1 div.sk-parallel {display: flex;align-items: stretch;justify-content: center;background-color: white;position: relative;}#sk-container-id-1 div.sk-item::before, #sk-container-id-1 div.sk-parallel-item::before {content: \"\";position: absolute;border-left: 1px solid gray;box-sizing: border-box;top: 0;bottom: 0;left: 50%;z-index: -1;}#sk-container-id-1 div.sk-parallel-item {display: flex;flex-direction: column;z-index: 1;position: relative;background-color: white;}#sk-container-id-1 div.sk-parallel-item:first-child::after {align-self: flex-end;width: 50%;}#sk-container-id-1 div.sk-parallel-item:last-child::after {align-self: flex-start;width: 50%;}#sk-container-id-1 div.sk-parallel-item:only-child::after {width: 0;}#sk-container-id-1 div.sk-dashed-wrapped {border: 1px dashed gray;margin: 0 0.4em 0.5em 0.4em;box-sizing: border-box;padding-bottom: 0.4em;background-color: white;}#sk-container-id-1 div.sk-label label {font-family: monospace;font-weight: bold;display: inline-block;line-height: 1.2em;}#sk-container-id-1 div.sk-label-container {text-align: center;}#sk-container-id-1 div.sk-container {/* jupyter's `normalize.less` sets `[hidden] { display: none; }` but bootstrap.min.css set `[hidden] { display: none !important; }` so we also need the `!important` here to be able to override the default hidden behavior on the sphinx rendered scikit-learn.org. See: https://github.com/scikit-learn/scikit-learn/issues/21755 */display: inline-block !important;position: relative;}#sk-container-id-1 div.sk-text-repr-fallback {display: none;}</style><div id=\"sk-container-id-1\" class=\"sk-top-container\"><div class=\"sk-text-repr-fallback\"><pre>MLPClassifier(alpha=0.1, random_state=42)</pre><b>In a Jupyter environment, please rerun this cell to show the HTML representation or trust the notebook. <br />On GitHub, the HTML representation is unable to render, please try loading this page with nbviewer.org.</b></div><div class=\"sk-container\" hidden><div class=\"sk-item\"><div class=\"sk-estimator sk-toggleable\"><input class=\"sk-toggleable__control sk-hidden--visually\" id=\"sk-estimator-id-1\" type=\"checkbox\" checked><label for=\"sk-estimator-id-1\" class=\"sk-toggleable__label sk-toggleable__label-arrow\">MLPClassifier</label><div class=\"sk-toggleable__content\"><pre>MLPClassifier(alpha=0.1, random_state=42)</pre></div></div></div></div></div>"
            ]
          },
          "metadata": {},
          "execution_count": 127
        }
      ]
    }
  ]
}